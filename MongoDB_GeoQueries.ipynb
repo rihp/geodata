{
 "cells": [
  {
   "cell_type": "code",
   "execution_count": 1,
   "metadata": {},
   "outputs": [],
   "source": [
    "from pymongo import MongoClient"
   ]
  },
  {
   "cell_type": "code",
   "execution_count": 2,
   "metadata": {},
   "outputs": [
    {
     "data": {
      "text/plain": [
       "<pymongo.cursor.Cursor at 0x7f1bfb4f2438>"
      ]
     },
     "execution_count": 2,
     "metadata": {},
     "output_type": "execute_result"
    }
   ],
   "source": [
    "client = MongoClient('mongodb://localhost/companies')\n",
    "db = client.companies\n",
    "col = db.geo_ref\n",
    "col.find({})"
   ]
  },
  {
   "cell_type": "code",
   "execution_count": 3,
   "metadata": {},
   "outputs": [
    {
     "data": {
      "text/plain": [
       "[]"
      ]
     },
     "execution_count": 3,
     "metadata": {},
     "output_type": "execute_result"
    }
   ],
   "source": [
    "list(col.find({'venue_location.PointCategory': '4square location'}).limit(4))"
   ]
  },
  {
   "cell_type": "code",
   "execution_count": 4,
   "metadata": {},
   "outputs": [
    {
     "data": {
      "text/plain": [
       "[{'_id': ObjectId('5e9d8c611d2a8adfeae25382'),\n",
       "  'venue_location': {'GeoPoint': {'type': 'Point',\n",
       "    'coordinates': [-95.712891, 37.09024]}}},\n",
       " {'_id': ObjectId('5e9d8c6fb6b1202989bf2614'),\n",
       "  'venue_location': {'GeoPoint': {'type': 'Point',\n",
       "    'coordinates': [-95.7081298828125, 37.09497833251953]}}},\n",
       " {'_id': ObjectId('5e9d8c6fb6b1202989bf2617'),\n",
       "  'venue_location': {'GeoPoint': {'type': 'Point',\n",
       "    'coordinates': [-95.71091651916504, 37.05617031622711]}}}]"
      ]
     },
     "execution_count": 4,
     "metadata": {},
     "output_type": "execute_result"
    }
   ],
   "source": [
    "list(col.find({\"venue_location.GeoPoint\":  {\n",
    "                                        \"$near\": { \n",
    "                                            \"$geometry\": {\n",
    "                                                  \"type\": \"Point\" ,\n",
    "                                                  \"coordinates\": [ -95.712891, 37.09024 ]\n",
    "                                            },\n",
    "                                        }\n",
    "                                        }}, {\"venue_location.GeoPoint\":1}).limit(3))"
   ]
  },
  {
   "cell_type": "code",
   "execution_count": null,
   "metadata": {},
   "outputs": [],
   "source": []
  },
  {
   "cell_type": "markdown",
   "metadata": {},
   "source": [
    "# Use the $near operator to find airports near the companies"
   ]
  },
  {
   "cell_type": "code",
   "execution_count": 10,
   "metadata": {
    "scrolled": true
   },
   "outputs": [
    {
     "name": "stdout",
     "output_type": "stream",
     "text": [
      "\n",
      "Evaluating this office location: [-95.712891, 37.09024]\n",
      "['Coffee Shop', 'Coffee Shop', 'Coffee Shop', 'Coffee Shop', 'Coffee Shop']\n",
      " There are 5 'Coffee Shop'\n",
      " There are 0 'Heliport'\n",
      " There are 0 'Airport Terminal'\n",
      "\n",
      "Evaluating this office location: [-73.985506, 40.757929]\n",
      "['Coffee Shop', 'Coffee Shop', 'Heliport', 'Heliport', 'Heliport', 'Heliport', 'Heliport', 'Heliport', 'Coffee Shop', 'Coffee Shop', 'Coffee Shop', 'Coffee Shop', 'Coffee Shop', 'Coffee Shop', 'Heliport', 'Heliport', 'Heliport', 'Heliport', 'Heliport', 'Heliport', 'Heliport', 'Heliport', 'Coffee Shop', 'Coffee Shop', 'Coffee Shop', 'Coffee Shop', 'Airport Terminal', 'Airport Terminal', 'Heliport', 'Heliport', 'Heliport', 'Heliport', 'Airport Terminal', 'Airport Terminal', 'Airport Terminal', 'Airport Terminal', 'Heliport', 'Heliport', 'Airport Terminal', 'Airport Terminal', 'Airport Terminal', 'Airport Terminal', 'Airport Terminal', 'Airport Terminal']\n",
      " There are 12 'Coffee Shop'\n",
      " There are 20 'Heliport'\n",
      " There are 12 'Airport Terminal'\n",
      "\n",
      "Evaluating this office location: [-73.985506, 40.757929]\n",
      "['Coffee Shop', 'Coffee Shop', 'Heliport', 'Heliport', 'Heliport', 'Heliport', 'Heliport', 'Heliport', 'Coffee Shop', 'Coffee Shop', 'Coffee Shop', 'Coffee Shop', 'Coffee Shop', 'Coffee Shop', 'Heliport', 'Heliport', 'Heliport', 'Heliport', 'Heliport', 'Heliport', 'Heliport', 'Heliport', 'Coffee Shop', 'Coffee Shop', 'Coffee Shop', 'Coffee Shop', 'Airport Terminal', 'Airport Terminal', 'Heliport', 'Heliport', 'Heliport', 'Heliport', 'Airport Terminal', 'Airport Terminal', 'Airport Terminal', 'Airport Terminal', 'Heliport', 'Heliport', 'Airport Terminal', 'Airport Terminal', 'Airport Terminal', 'Airport Terminal', 'Airport Terminal', 'Airport Terminal']\n",
      " There are 12 'Coffee Shop'\n",
      " There are 20 'Heliport'\n",
      " There are 12 'Airport Terminal'\n",
      "\n",
      "Evaluating this office location: [-73.985506, 40.757929]\n",
      "['Coffee Shop', 'Coffee Shop', 'Heliport', 'Heliport', 'Heliport', 'Heliport', 'Heliport', 'Heliport', 'Coffee Shop', 'Coffee Shop', 'Coffee Shop', 'Coffee Shop', 'Coffee Shop', 'Coffee Shop', 'Heliport', 'Heliport', 'Heliport', 'Heliport', 'Heliport', 'Heliport', 'Heliport', 'Heliport', 'Coffee Shop', 'Coffee Shop', 'Coffee Shop', 'Coffee Shop', 'Airport Terminal', 'Airport Terminal', 'Heliport', 'Heliport', 'Heliport', 'Heliport', 'Airport Terminal', 'Airport Terminal', 'Airport Terminal', 'Airport Terminal', 'Heliport', 'Heliport', 'Airport Terminal', 'Airport Terminal', 'Airport Terminal', 'Airport Terminal', 'Airport Terminal', 'Airport Terminal']\n",
      " There are 12 'Coffee Shop'\n",
      " There are 20 'Heliport'\n",
      " There are 12 'Airport Terminal'\n",
      "\n",
      "Evaluating this office location: [-73.985506, 40.757929]\n",
      "['Coffee Shop', 'Coffee Shop', 'Heliport', 'Heliport', 'Heliport', 'Heliport', 'Heliport', 'Heliport', 'Coffee Shop', 'Coffee Shop', 'Coffee Shop', 'Coffee Shop', 'Coffee Shop', 'Coffee Shop', 'Heliport', 'Heliport', 'Heliport', 'Heliport', 'Heliport', 'Heliport', 'Heliport', 'Heliport', 'Coffee Shop', 'Coffee Shop', 'Coffee Shop', 'Coffee Shop', 'Airport Terminal', 'Airport Terminal', 'Heliport', 'Heliport', 'Heliport', 'Heliport', 'Airport Terminal', 'Airport Terminal', 'Airport Terminal', 'Airport Terminal', 'Heliport', 'Heliport', 'Airport Terminal', 'Airport Terminal', 'Airport Terminal', 'Airport Terminal', 'Airport Terminal', 'Airport Terminal']\n",
      " There are 12 'Coffee Shop'\n",
      " There are 20 'Heliport'\n",
      " There are 12 'Airport Terminal'\n",
      "\n",
      "Evaluating this office location: [-73.985506, 40.757929]\n",
      "['Coffee Shop', 'Coffee Shop', 'Heliport', 'Heliport', 'Heliport', 'Heliport', 'Heliport', 'Heliport', 'Coffee Shop', 'Coffee Shop', 'Coffee Shop', 'Coffee Shop', 'Coffee Shop', 'Coffee Shop', 'Heliport', 'Heliport', 'Heliport', 'Heliport', 'Heliport', 'Heliport', 'Heliport', 'Heliport', 'Coffee Shop', 'Coffee Shop', 'Coffee Shop', 'Coffee Shop', 'Airport Terminal', 'Airport Terminal', 'Heliport', 'Heliport', 'Heliport', 'Heliport', 'Airport Terminal', 'Airport Terminal', 'Airport Terminal', 'Airport Terminal', 'Heliport', 'Heliport', 'Airport Terminal', 'Airport Terminal', 'Airport Terminal', 'Airport Terminal', 'Airport Terminal', 'Airport Terminal']\n",
      " There are 12 'Coffee Shop'\n",
      " There are 20 'Heliport'\n",
      " There are 12 'Airport Terminal'\n",
      "\n",
      "Evaluating this office location: [-111.9035, 33.8171]\n",
      "[]\n",
      " There are 0 'Coffee Shop'\n",
      " There are 0 'Heliport'\n",
      " There are 0 'Airport Terminal'\n",
      "\n",
      "Evaluating this office location: [13.4109071, 52.5013449]\n",
      "[]\n",
      " There are 0 'Coffee Shop'\n",
      " There are 0 'Heliport'\n",
      " There are 0 'Airport Terminal'\n",
      "\n",
      "Evaluating this office location: [-111.9035, 33.8171]\n",
      "[]\n",
      " There are 0 'Coffee Shop'\n",
      " There are 0 'Heliport'\n",
      " There are 0 'Airport Terminal'\n",
      "\n",
      "Evaluating this office location: [-111.9035, 33.8171]\n",
      "[]\n",
      " There are 0 'Coffee Shop'\n",
      " There are 0 'Heliport'\n",
      " There are 0 'Airport Terminal'\n"
     ]
    }
   ],
   "source": [
    "# Queary a cursor only with offices \n",
    "offices = list(col.find({\"venue_location.PointCategory\":\"business office\"},\n",
    "                        {\"venue_location.GeoPoint\":1}).limit(10))\n",
    "\n",
    "# Define the specific categories in an Array\n",
    "filter_categories = ['Coffee Shop', 'Heliport', \"Airport Terminal\"]\n",
    "\n",
    "def evaluateOfficeNeighborhood(document, filter_categories, radius):\n",
    "    # Take office-document's coordinates\n",
    "    print(f\"\\nEvaluating this office location: {document['venue_location']['GeoPoint']['coordinates']}\")\n",
    "    office_coords = document['venue_location']['GeoPoint']['coordinates']\n",
    "\n",
    "    # Perform a query that finds nearby venues which are part of the `filter_categories`\n",
    "    matches = list(col.find({\"venue_location.GeoPoint\":  {\n",
    "                                        \"$near\": { \n",
    "                                            \"$geometry\": {\n",
    "                                                  \"type\": \"Point\" ,\n",
    "                                                  \"coordinates\": office_coords\n",
    "                                            },\n",
    "                                            \"$maxDistance\":radius,\n",
    "                                           \n",
    "                                        }\n",
    "                                        },\n",
    "                        'venue_location.PointCategory.categories_names': {\"$in\": filter_categories},\n",
    "                        },\n",
    "                        {\"venue_location.PointCategory.categories_names\":1}))\n",
    "    \n",
    "    # Loop the resulting cursor, and try to return the category found\n",
    "    for venue in matches:\n",
    "            yield venue['venue_location']['PointCategory']['categories_names']\n",
    "            \n",
    "for document in offices:\n",
    "    venues = list(evaluateOfficeNeighborhood(document, filter_categories, 50000))\n",
    "    print(venues)\n",
    "    \n",
    "    for var in filter_categories:\n",
    "        print(f\" There are {venues.count(var)} '{var}'\")"
   ]
  },
  {
   "cell_type": "code",
   "execution_count": null,
   "metadata": {},
   "outputs": [],
   "source": []
  },
  {
   "cell_type": "code",
   "execution_count": 6,
   "metadata": {},
   "outputs": [],
   "source": [
    "# Count how many airports and heliports are near the queried office"
   ]
  },
  {
   "cell_type": "code",
   "execution_count": 19,
   "metadata": {
    "scrolled": true
   },
   "outputs": [
    {
     "name": "stdout",
     "output_type": "stream",
     "text": [
      "\n",
      "Evaluating this office location: [-95.712891, 37.09024]\n",
      " There are 5 'Coffee Shop'\n",
      "\n",
      "Evaluating this office location: [-73.985506, 40.757929]\n",
      " There are 12 'Coffee Shop'\n",
      "\n",
      "Evaluating this office location: [-73.985506, 40.757929]\n",
      " There are 12 'Coffee Shop'\n",
      "\n",
      "Evaluating this office location: [-73.985506, 40.757929]\n",
      " There are 12 'Coffee Shop'\n",
      "\n",
      "Evaluating this office location: [-73.985506, 40.757929]\n",
      " There are 12 'Coffee Shop'\n",
      "\n",
      "Evaluating this office location: [-73.985506, 40.757929]\n",
      " There are 12 'Coffee Shop'\n",
      "\n",
      "Evaluating this office location: [-111.9035, 33.8171]\n",
      " There are 0 'Coffee Shop'\n",
      "\n",
      "Evaluating this office location: [13.4109071, 52.5013449]\n",
      " There are 0 'Coffee Shop'\n",
      "\n",
      "Evaluating this office location: [-111.9035, 33.8171]\n",
      " There are 0 'Coffee Shop'\n",
      "\n",
      "Evaluating this office location: [-111.9035, 33.8171]\n",
      " There are 0 'Coffee Shop'\n",
      "\n",
      "Evaluating this office location: [-95.712891, 37.09024]\n",
      " There are 0 'Heliport'\n",
      " There are 0 'Airport Terminal'\n",
      "\n",
      "Evaluating this office location: [-73.985506, 40.757929]\n",
      " There are 20 'Heliport'\n",
      " There are 12 'Airport Terminal'\n",
      "\n",
      "Evaluating this office location: [-73.985506, 40.757929]\n",
      " There are 20 'Heliport'\n",
      " There are 12 'Airport Terminal'\n",
      "\n",
      "Evaluating this office location: [-73.985506, 40.757929]\n",
      " There are 20 'Heliport'\n",
      " There are 12 'Airport Terminal'\n",
      "\n",
      "Evaluating this office location: [-73.985506, 40.757929]\n",
      " There are 20 'Heliport'\n",
      " There are 12 'Airport Terminal'\n",
      "\n",
      "Evaluating this office location: [-73.985506, 40.757929]\n",
      " There are 20 'Heliport'\n",
      " There are 12 'Airport Terminal'\n",
      "\n",
      "Evaluating this office location: [-111.9035, 33.8171]\n",
      " There are 0 'Heliport'\n",
      " There are 0 'Airport Terminal'\n",
      "\n",
      "Evaluating this office location: [13.4109071, 52.5013449]\n",
      " There are 0 'Heliport'\n",
      " There are 0 'Airport Terminal'\n",
      "\n",
      "Evaluating this office location: [-111.9035, 33.8171]\n",
      " There are 0 'Heliport'\n",
      " There are 0 'Airport Terminal'\n",
      "\n",
      "Evaluating this office location: [-111.9035, 33.8171]\n",
      " There are 0 'Heliport'\n",
      " There are 0 'Airport Terminal'\n"
     ]
    }
   ],
   "source": [
    "# Query a cursor only with offices \n",
    "offices = list(col.find({\"venue_location.PointCategory\":\"business office\"},\n",
    "                        {\"venue_location.GeoPoint\":1}).limit(10))\n",
    "\n",
    "# Define the specific categories in an Array\n",
    "coffee_venues = ['Coffee Shop']\n",
    "transport_venues = ['Heliport', \"Airport Terminal\"]\n",
    "BigPicture = [[coffee_venues,500], # Coffee shops in a 500 mts radius\n",
    "              [transport_venues,20000]] # Airports in a 20km radius\n",
    "\n",
    "def exploreNeighborhood(document, filter_categories, radius):\n",
    "    # Take office-document's coordinates\n",
    "    office_coords = document['venue_location']['GeoPoint']['coordinates']\n",
    "    print(f\"\\nEvaluating this office location: {office_coords}\")\n",
    "  \n",
    "    # Query and make a list of matches. \n",
    "    # This will include nearby venues \n",
    "    #      - which are part of the `filter_categories` list\n",
    "    #      - which are in the specified radius\n",
    "    matches = list(col.find({\"venue_location.GeoPoint\":  {\n",
    "                                        \"$near\": { \n",
    "                                            \"$geometry\": {\n",
    "                                                  \"type\": \"Point\" ,\n",
    "                                                  \"coordinates\": office_coords\n",
    "                                            },\n",
    "                                            # Specify the maximum radius of the query\n",
    "                                            \"$maxDistance\":radius,\n",
    "                                        }\n",
    "                            },\n",
    "                        # Specify the correct 'categories_names' values\n",
    "                        'venue_location.PointCategory.categories_names': {\"$in\": filter_categories},\n",
    "                        },\n",
    "                        #\n",
    "                        {\"venue_location.PointCategory.categories_names\":1}))\n",
    "    \n",
    "    # Loop the resulting cursor, and try to return the category found\n",
    "    for venue in matches:\n",
    "            yield venue['venue_location']['PointCategory']['categories_names']\n",
    "\n",
    "def evaluateNeighborhood(BigPicture):\n",
    "    for filter_categories, radius in BigPicture:\n",
    "        for document in offices:\n",
    "            venues = list(exploreNeighborhood(document, filter_categories, 50000))\n",
    "            #print(venues)\n",
    "\n",
    "            for var in filter_categories:\n",
    "                print(f\" There are {venues.count(var)} '{var}'\")\n",
    "                \n",
    "evaluateNeighborhood(BigPicture)"
   ]
  },
  {
   "cell_type": "code",
   "execution_count": null,
   "metadata": {},
   "outputs": [],
   "source": []
  },
  {
   "cell_type": "code",
   "execution_count": null,
   "metadata": {},
   "outputs": [],
   "source": []
  },
  {
   "cell_type": "code",
   "execution_count": null,
   "metadata": {},
   "outputs": [],
   "source": []
  },
  {
   "cell_type": "code",
   "execution_count": null,
   "metadata": {},
   "outputs": [],
   "source": []
  },
  {
   "cell_type": "code",
   "execution_count": 7,
   "metadata": {},
   "outputs": [
    {
     "ename": "ZeroDivisionError",
     "evalue": "division by zero",
     "output_type": "error",
     "traceback": [
      "\u001b[0;31m---------------------------------------------------------------------------\u001b[0m",
      "\u001b[0;31mZeroDivisionError\u001b[0m                         Traceback (most recent call last)",
      "\u001b[0;32m<ipython-input-7-9ab73e148374>\u001b[0m in \u001b[0;36m<module>\u001b[0;34m\u001b[0m\n\u001b[0;32m----> 1\u001b[0;31m \u001b[0;36m0\u001b[0m\u001b[0;34m/\u001b[0m\u001b[0;36m0\u001b[0m\u001b[0;34m\u001b[0m\u001b[0;34m\u001b[0m\u001b[0m\n\u001b[0m",
      "\u001b[0;31mZeroDivisionError\u001b[0m: division by zero"
     ]
    }
   ],
   "source": [
    "0/0\n"
   ]
  },
  {
   "cell_type": "code",
   "execution_count": null,
   "metadata": {},
   "outputs": [],
   "source": [
    "list(col.find({\"venue_location.GeoPoint\":  {\n",
    "                                        \"$near\": { \n",
    "                                            \"$geometry\": {\n",
    "                                                  \"type\": \"Point\" ,\n",
    "                                                  \"coordinates\": [ -95.712891, 37.09024 ]\n",
    "                                            },\n",
    "                                        }\n",
    "                                        }}, {\"venue_location.GeoPoint\":1}).limit(3))"
   ]
  },
  {
   "cell_type": "code",
   "execution_count": null,
   "metadata": {},
   "outputs": [],
   "source": []
  },
  {
   "cell_type": "code",
   "execution_count": null,
   "metadata": {},
   "outputs": [],
   "source": []
  },
  {
   "cell_type": "code",
   "execution_count": null,
   "metadata": {},
   "outputs": [],
   "source": []
  }
 ],
 "metadata": {
  "kernelspec": {
   "display_name": "Python 3.6.9 64-bit",
   "language": "python",
   "name": "python36964bit17c6ebb0882a44ad96e177b7fffe16a0"
  },
  "language_info": {
   "codemirror_mode": {
    "name": "ipython",
    "version": 3
   },
   "file_extension": ".py",
   "mimetype": "text/x-python",
   "name": "python",
   "nbconvert_exporter": "python",
   "pygments_lexer": "ipython3",
   "version": "3.6.9"
  }
 },
 "nbformat": 4,
 "nbformat_minor": 4
}
