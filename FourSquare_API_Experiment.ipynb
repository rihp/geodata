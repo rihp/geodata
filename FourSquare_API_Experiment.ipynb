{
 "cells": [
  {
   "cell_type": "code",
   "execution_count": 1,
   "metadata": {
    "scrolled": true
   },
   "outputs": [
    {
     "data": {
      "text/plain": [
       "'MW4'"
      ]
     },
     "execution_count": 1,
     "metadata": {},
     "output_type": "execute_result"
    }
   ],
   "source": [
    "from dotenv import load_dotenv\n",
    "load_dotenv()\n",
    "\n",
    "import os\n",
    "os.getenv(\"FSQCLID\")[:3]"
   ]
  },
  {
   "cell_type": "code",
   "execution_count": 5,
   "metadata": {},
   "outputs": [],
   "source": [
    "import json, requests\n",
    "\n",
    "# I have to make a function to melts Geopoints into 4SQ `ll` format\n",
    "ll ='40.7243,-74.0018'\n",
    "\n",
    "def getCategoryFrom4SQ(ll, venue_category, radius='2000', limit=5):\n",
    "    \"\"\"\n",
    "    A basic querying function that \n",
    "    INPUTS: \n",
    "       - the venue_category name, as defined by FOURSQUARE API.\n",
    "    OUTPUT:\n",
    "       - an array of GeoPoints that\n",
    "    \"\"\"\n",
    "    #Using the `/venues/search` enpoint\n",
    "    url = 'https://api.foursquare.com/v2/venues/search'\n",
    "\n",
    "    if type(venue_category) is str:\n",
    "        # Define a dictionary with the venue categories ID\n",
    "        # https://developer.foursquare.com/docs/build-with-foursquare/categories/\n",
    "        #\n",
    "        # ♠ OPTIMIZATION IDEA: Scrape the official website to build the complete dictionary\n",
    "        #    and save it in a separate categories.py that can also filter correct categories\n",
    "        #    and also generate mixed categories (Meaning, getting 'international transport' \n",
    "        #    to include heliports and airports in just one search.)\n",
    "        relevant_categories = {'daycare':         '5744ccdfe4b0c0459246b4c7',\n",
    "                               \n",
    "                               'coffee shop':    '4bf58dd8d48988d1e0931735',\n",
    "                               'corporate coffee shop':'5665c7b9498e7d8a4f2c0f06', # More similar categories\n",
    "                               \n",
    "                               'airport':        '4bf58dd8d48988d1ed931735',\n",
    "                               'heliport':       '56aa371ce4b08b9a8d57356e',\n",
    "                               \n",
    "                               'convention center':'4bf58dd8d48988d1ff931735',\n",
    "                               'business center': '56aa371be4b08b9a8d573517',\n",
    "                               \n",
    "                               'design studio':'4bf58dd8d48988d1f4941735',\n",
    "                               \n",
    "                               'nightlife spot':'4d4b7105d754a06376d81259',\n",
    "                               'arcade':       '4bf58dd8d48988d1e1931735',\n",
    "                               \n",
    "                               'volcano':      '5032848691d4c4b30a586d61',\n",
    "                              }\n",
    "        \n",
    "        venue_category_ID = relevant_categories[venue_category]\n",
    "    else: \n",
    "        raise TypeError('You must use one of the predefined keys from the relevant_categories dictionary.')    \n",
    "    \n",
    "\n",
    "\n",
    "    # Set API Query parameters\n",
    "    params = dict(\n",
    "        client_id=os.getenv('FSQCLID'),\n",
    "        client_secret=os.getenv('FSQCLSC'),\n",
    "        v='20190323',   # This `v` should not be changed, untill API is to be re-developed, \n",
    "                        #  see: https://developer.foursquare.com/docs/places-api/versioning/\n",
    "        ll=ll, # format : '40.7243,-74.0018'\n",
    "        query=None,\n",
    "        categoryId=venue_category_ID,\n",
    "        radius=radius,\n",
    "        limit=limit\n",
    "    )\n",
    "\n",
    "    print(f\"Requesting: {url},    venue_category: {venue_category}\" )\n",
    "    response = requests.get(url=url, params=params)\n",
    "    \n",
    "    print(response.status_code) #https://http.cat/\n",
    "\n",
    "    return response"
   ]
  },
  {
   "cell_type": "code",
   "execution_count": 6,
   "metadata": {
    "scrolled": true
   },
   "outputs": [
    {
     "name": "stdout",
     "output_type": "stream",
     "text": [
      "Requesting: https://api.foursquare.com/v2/venues/search,    venue_category: coffee shop\n",
      "200\n"
     ]
    }
   ],
   "source": [
    "resp = getCategoryFrom4SQ(ll, 'coffee shop')"
   ]
  },
  {
   "cell_type": "code",
   "execution_count": 7,
   "metadata": {},
   "outputs": [
    {
     "data": {
      "text/plain": [
       "dict_keys(['venues', 'confident'])"
      ]
     },
     "execution_count": 7,
     "metadata": {},
     "output_type": "execute_result"
    }
   ],
   "source": [
    "resp.json()['response'].keys()"
   ]
  },
  {
   "cell_type": "code",
   "execution_count": 8,
   "metadata": {
    "scrolled": true
   },
   "outputs": [
    {
     "name": "stdout",
     "output_type": "stream",
     "text": [
      "Requesting: https://api.foursquare.com/v2/venues/search,    venue_category: daycare\n",
      "200\n"
     ]
    }
   ],
   "source": [
    "daycares = getCategoryFrom4SQ('40.7243,-74.0018', 'daycare')"
   ]
  },
  {
   "cell_type": "code",
   "execution_count": 9,
   "metadata": {
    "scrolled": true
   },
   "outputs": [
    {
     "name": "stdout",
     "output_type": "stream",
     "text": [
      "Bright Horizons at Tribeca \n",
      " {'address': '129 Hudson St', 'lat': 40.720459810137804, 'lng': -74.00884164506351, 'labeledLatLngs': [{'label': 'display', 'lat': 40.720459810137804, 'lng': -74.00884164506351}, {'label': 'entrance', 'lat': 40.720415, 'lng': -74.008664}], 'distance': 731, 'postalCode': '10013', 'cc': 'US', 'city': 'New York', 'state': 'NY', 'country': 'United States', 'formattedAddress': ['129 Hudson St', 'New York, NY 10013', 'United States']}\n",
      "Bright Horizons in 90 Washington on West Street \n",
      " {'address': '90 Washington St', 'lat': 40.70808107301849, 'lng': -74.0149106830358, 'labeledLatLngs': [{'label': 'display', 'lat': 40.70808107301849, 'lng': -74.0149106830358}], 'distance': 2117, 'postalCode': '10006', 'cc': 'US', 'city': 'New York', 'state': 'NY', 'country': 'United States', 'formattedAddress': ['90 Washington St', 'New York, NY 10006', 'United States']}\n",
      "Kiddie Academy of Hoboken \n",
      " {'address': '112 Sinatra Drive', 'lat': 40.7376559, 'lng': -74.027726, 'labeledLatLngs': [{'label': 'display', 'lat': 40.7376559, 'lng': -74.027726}], 'distance': 2644, 'postalCode': '07030', 'cc': 'US', 'city': 'Hoboken', 'state': 'NJ', 'country': 'United States', 'formattedAddress': ['112 Sinatra Drive', 'Hoboken, NJ 07030', 'United States']}\n",
      "Tribeca KinderCare \n",
      " {'address': '311 Greenwich St', 'lat': 40.71657409890642, 'lng': -74.01050136441802, 'labeledLatLngs': [{'label': 'display', 'lat': 40.71657409890642, 'lng': -74.01050136441802}], 'distance': 1130, 'postalCode': '10013', 'cc': 'US', 'city': 'New York', 'state': 'NY', 'country': 'United States', 'formattedAddress': ['311 Greenwich St', 'New York, NY 10013', 'United States']}\n"
     ]
    }
   ],
   "source": [
    "for venue in daycares.json()['response']['venues']:\n",
    "    print(venue['name'],'\\n', venue['location'])"
   ]
  },
  {
   "cell_type": "code",
   "execution_count": 10,
   "metadata": {
    "scrolled": true
   },
   "outputs": [
    {
     "name": "stdout",
     "output_type": "stream",
     "text": [
      "Requesting: https://api.foursquare.com/v2/venues/search,    venue_category: airport\n",
      "200\n"
     ]
    }
   ],
   "source": [
    "airports = getCategoryFrom4SQ('40.7243,-74.0018', 'airport', radius=30000)"
   ]
  },
  {
   "cell_type": "code",
   "execution_count": 11,
   "metadata": {
    "scrolled": true
   },
   "outputs": [
    {
     "data": {
      "text/plain": [
       "{'meta': {'code': 200, 'requestId': '5e9aeb3b3907e7001b7acb50'},\n",
       " 'response': {'venues': [{'id': '4459d2f1f964a520d7321fe3',\n",
       "    'name': 'Newark Liberty International Airport (EWR) (Newark Liberty International Airport)',\n",
       "    'location': {'address': '10 Toler Pl',\n",
       "     'crossStreet': 'at Express Rd',\n",
       "     'lat': 40.692971458363075,\n",
       "     'lng': -74.17799234390257,\n",
       "     'labeledLatLngs': [{'label': 'display',\n",
       "       'lat': 40.692971458363075,\n",
       "       'lng': -74.17799234390257}],\n",
       "     'distance': 15271,\n",
       "     'postalCode': '07114',\n",
       "     'cc': 'US',\n",
       "     'city': 'Newark',\n",
       "     'state': 'NJ',\n",
       "     'country': 'United States',\n",
       "     'formattedAddress': ['10 Toler Pl (at Express Rd)',\n",
       "      'Newark, NJ 07114',\n",
       "      'United States']},\n",
       "    'categories': [{'id': '4bf58dd8d48988d1ed931735',\n",
       "      'name': 'Airport',\n",
       "      'pluralName': 'Airports',\n",
       "      'shortName': 'Airport',\n",
       "      'icon': {'prefix': 'https://ss3.4sqi.net/img/categories_v2/travel/airport_',\n",
       "       'suffix': '.png'},\n",
       "      'primary': True}],\n",
       "    'venuePage': {'id': '73526424'},\n",
       "    'referralId': 'v-1587211174',\n",
       "    'hasPerk': False},\n",
       "   {'id': '43a52546f964a520532c1fe3',\n",
       "    'name': 'John F. Kennedy International Airport (JFK) (John F. Kennedy International Airport)',\n",
       "    'location': {'address': 'JFK Expy',\n",
       "     'crossStreet': 'Van Wyck Expy',\n",
       "     'lat': 40.645121918369526,\n",
       "     'lng': -73.78460884094238,\n",
       "     'labeledLatLngs': [{'label': 'display',\n",
       "       'lat': 40.645121918369526,\n",
       "       'lng': -73.78460884094238}],\n",
       "     'distance': 20342,\n",
       "     'postalCode': '11430',\n",
       "     'cc': 'US',\n",
       "     'neighborhood': 'Jamai',\n",
       "     'city': 'Queens',\n",
       "     'state': 'NY',\n",
       "     'country': 'United States',\n",
       "     'formattedAddress': ['JFK Expy (Van Wyck Expy)',\n",
       "      'Queens, NY 11430',\n",
       "      'United States']},\n",
       "    'categories': [{'id': '4bf58dd8d48988d1ed931735',\n",
       "      'name': 'Airport',\n",
       "      'pluralName': 'Airports',\n",
       "      'shortName': 'Airport',\n",
       "      'icon': {'prefix': 'https://ss3.4sqi.net/img/categories_v2/travel/airport_',\n",
       "       'suffix': '.png'},\n",
       "      'primary': True}],\n",
       "    'venuePage': {'id': '63652169'},\n",
       "    'referralId': 'v-1587211174',\n",
       "    'hasPerk': False},\n",
       "   {'id': '4ace6c89f964a52078d020e3',\n",
       "    'name': 'LaGuardia Airport (LGA) (LaGuardia Airport)',\n",
       "    'location': {'address': 'Grand Central Pkwy',\n",
       "     'lat': 40.77288813003166,\n",
       "     'lng': -73.86880874633789,\n",
       "     'labeledLatLngs': [{'label': 'display',\n",
       "       'lat': 40.77288813003166,\n",
       "       'lng': -73.86880874633789}],\n",
       "     'distance': 12451,\n",
       "     'postalCode': '11369',\n",
       "     'cc': 'US',\n",
       "     'city': 'East Elmhurst',\n",
       "     'state': 'NY',\n",
       "     'country': 'United States',\n",
       "     'formattedAddress': ['Grand Central Pkwy',\n",
       "      'East Elmhurst, NY 11369',\n",
       "      'United States']},\n",
       "    'categories': [{'id': '4bf58dd8d48988d1ed931735',\n",
       "      'name': 'Airport',\n",
       "      'pluralName': 'Airports',\n",
       "      'shortName': 'Airport',\n",
       "      'icon': {'prefix': 'https://ss3.4sqi.net/img/categories_v2/travel/airport_',\n",
       "       'suffix': '.png'},\n",
       "      'primary': True}],\n",
       "    'venuePage': {'id': '72484665'},\n",
       "    'referralId': 'v-1587211174',\n",
       "    'hasPerk': False},\n",
       "   {'id': '4a19c1def964a520497a1fe3',\n",
       "    'name': 'Terminal 4',\n",
       "    'location': {'address': 'John F. Kennedy International Airport',\n",
       "     'lat': 40.64346160342312,\n",
       "     'lng': -73.78237663575771,\n",
       "     'distance': 20592,\n",
       "     'postalCode': '11430',\n",
       "     'cc': 'US',\n",
       "     'city': 'Queens',\n",
       "     'state': 'NY',\n",
       "     'country': 'United States',\n",
       "     'formattedAddress': ['John F. Kennedy International Airport',\n",
       "      'Queens, NY 11430',\n",
       "      'United States']},\n",
       "    'categories': [{'id': '4bf58dd8d48988d1eb931735',\n",
       "      'name': 'Airport Terminal',\n",
       "      'pluralName': 'Airport Terminals',\n",
       "      'shortName': 'Terminal',\n",
       "      'icon': {'prefix': 'https://ss3.4sqi.net/img/categories_v2/travel/airport_gate_',\n",
       "       'suffix': '.png'},\n",
       "      'primary': True}],\n",
       "    'referralId': 'v-1587211174',\n",
       "    'hasPerk': False},\n",
       "   {'id': '4be1ae703ef676b0e44ec0ca',\n",
       "    'name': 'JFK AirTrain - Jamaica Station',\n",
       "    'location': {'address': '146-01 Archer Ave',\n",
       "     'crossStreet': 'Sutphin Blvd',\n",
       "     'lat': 40.69915117840494,\n",
       "     'lng': -73.80789261940593,\n",
       "     'labeledLatLngs': [{'label': 'display',\n",
       "       'lat': 40.69915117840494,\n",
       "       'lng': -73.80789261940593}],\n",
       "     'distance': 16599,\n",
       "     'postalCode': '11435',\n",
       "     'cc': 'US',\n",
       "     'city': 'Jamaica',\n",
       "     'state': 'NY',\n",
       "     'country': 'United States',\n",
       "     'formattedAddress': ['146-01 Archer Ave (Sutphin Blvd)',\n",
       "      'Jamaica, NY 11435',\n",
       "      'United States']},\n",
       "    'categories': [{'id': '4bf58dd8d48988d1ec931735',\n",
       "      'name': 'Airport Tram',\n",
       "      'pluralName': 'Airport Trams',\n",
       "      'shortName': 'Tram',\n",
       "      'icon': {'prefix': 'https://ss3.4sqi.net/img/categories_v2/travel/airport_tram_',\n",
       "       'suffix': '.png'},\n",
       "      'primary': True}],\n",
       "    'referralId': 'v-1587211174',\n",
       "    'hasPerk': False}],\n",
       "  'confident': False}}"
      ]
     },
     "execution_count": 11,
     "metadata": {},
     "output_type": "execute_result"
    }
   ],
   "source": [
    "airports.json()"
   ]
  },
  {
   "cell_type": "code",
   "execution_count": 12,
   "metadata": {
    "scrolled": true
   },
   "outputs": [
    {
     "name": "stdout",
     "output_type": "stream",
     "text": [
      "Requesting: https://api.foursquare.com/v2/venues/search,    venue_category: nightlife spot\n",
      "200\n"
     ]
    }
   ],
   "source": [
    "nightlife_spots = getCategoryFrom4SQ('40.7243,-74.0018', 'nightlife spot', radius=500)"
   ]
  },
  {
   "cell_type": "code",
   "execution_count": 14,
   "metadata": {},
   "outputs": [
    {
     "data": {
      "text/plain": [
       "{'meta': {'code': 200, 'requestId': '5e9aebdc9fcb92001b5694a8'},\n",
       " 'response': {'venues': [{'id': '5e88c7acb223d800080dce56',\n",
       "    'name': 'Torch & Crown Brewing Company',\n",
       "    'location': {'address': '12 Vandam St',\n",
       "     'lat': 40.726314,\n",
       "     'lng': -74.004208,\n",
       "     'labeledLatLngs': [{'label': 'display',\n",
       "       'lat': 40.726314,\n",
       "       'lng': -74.004208}],\n",
       "     'distance': 302,\n",
       "     'postalCode': '10013',\n",
       "     'cc': 'US',\n",
       "     'city': 'New York',\n",
       "     'state': 'NY',\n",
       "     'country': 'United States',\n",
       "     'formattedAddress': ['12 Vandam St',\n",
       "      'New York, NY 10013',\n",
       "      'United States']},\n",
       "    'categories': [{'id': '50327c8591d4c4b30a586d5d',\n",
       "      'name': 'Brewery',\n",
       "      'pluralName': 'Breweries',\n",
       "      'shortName': 'Brewery',\n",
       "      'icon': {'prefix': 'https://ss3.4sqi.net/img/categories_v2/food/brewery_',\n",
       "       'suffix': '.png'},\n",
       "      'primary': True}],\n",
       "    'referralId': 'v-1587211191',\n",
       "    'hasPerk': False},\n",
       "   {'id': '5c44c91e75eee4002c0a4ca9',\n",
       "    'name': 'Niche Niche',\n",
       "    'location': {'address': '43 Macdougal St',\n",
       "     'crossStreet': 'at King Street',\n",
       "     'lat': 40.7276881399793,\n",
       "     'lng': -74.00260228686538,\n",
       "     'labeledLatLngs': [{'label': 'display',\n",
       "       'lat': 40.7276881399793,\n",
       "       'lng': -74.00260228686538},\n",
       "      {'label': 'entrance', 'lat': 40.727713, 'lng': -74.002524}],\n",
       "     'distance': 383,\n",
       "     'postalCode': '10012',\n",
       "     'cc': 'US',\n",
       "     'city': 'New York',\n",
       "     'state': 'NY',\n",
       "     'country': 'United States',\n",
       "     'formattedAddress': ['43 Macdougal St (at King Street)',\n",
       "      'New York, NY 10012',\n",
       "      'United States']},\n",
       "    'categories': [{'id': '56aa371be4b08b9a8d573538',\n",
       "      'name': 'Theme Restaurant',\n",
       "      'pluralName': 'Theme Restaurants',\n",
       "      'shortName': 'Theme Restaurant',\n",
       "      'icon': {'prefix': 'https://ss3.4sqi.net/img/categories_v2/food/default_',\n",
       "       'suffix': '.png'},\n",
       "      'primary': True}],\n",
       "    'referralId': 'v-1587211191',\n",
       "    'hasPerk': False},\n",
       "   {'id': '56e4e262498e64591cecae0c',\n",
       "    'name': 'The Blond',\n",
       "    'location': {'address': '11 Howard St',\n",
       "     'lat': 40.71924234753701,\n",
       "     'lng': -74.00006632090165,\n",
       "     'labeledLatLngs': [{'label': 'display',\n",
       "       'lat': 40.71924234753701,\n",
       "       'lng': -74.00006632090165},\n",
       "      {'label': 'entrance', 'lat': 40.719232, 'lng': -74.000109}],\n",
       "     'distance': 581,\n",
       "     'cc': 'US',\n",
       "     'city': 'New York',\n",
       "     'state': 'NY',\n",
       "     'country': 'United States',\n",
       "     'formattedAddress': ['11 Howard St', 'New York, NY', 'United States']},\n",
       "    'categories': [{'id': '4bf58dd8d48988d11f941735',\n",
       "      'name': 'Nightclub',\n",
       "      'pluralName': 'Nightclubs',\n",
       "      'shortName': 'Nightclub',\n",
       "      'icon': {'prefix': 'https://ss3.4sqi.net/img/categories_v2/nightlife/nightclub_',\n",
       "       'suffix': '.png'},\n",
       "      'primary': True}],\n",
       "    'referralId': 'v-1587211191',\n",
       "    'hasPerk': False},\n",
       "   {'id': '3fd66200f964a52009e61ee3',\n",
       "    'name': 'Spring Lounge',\n",
       "    'location': {'address': '48 Spring St',\n",
       "     'crossStreet': 'at Mulberry St',\n",
       "     'lat': 40.72195614285704,\n",
       "     'lng': -73.9963268666797,\n",
       "     'labeledLatLngs': [{'label': 'display',\n",
       "       'lat': 40.72195614285704,\n",
       "       'lng': -73.9963268666797},\n",
       "      {'label': 'entrance', 'lat': 40.721802, 'lng': -73.996416}],\n",
       "     'distance': 530,\n",
       "     'postalCode': '10012',\n",
       "     'cc': 'US',\n",
       "     'city': 'New York',\n",
       "     'state': 'NY',\n",
       "     'country': 'United States',\n",
       "     'formattedAddress': ['48 Spring St (at Mulberry St)',\n",
       "      'New York, NY 10012',\n",
       "      'United States']},\n",
       "    'categories': [{'id': '4bf58dd8d48988d116941735',\n",
       "      'name': 'Bar',\n",
       "      'pluralName': 'Bars',\n",
       "      'shortName': 'Bar',\n",
       "      'icon': {'prefix': 'https://ss3.4sqi.net/img/categories_v2/nightlife/pub_',\n",
       "       'suffix': '.png'},\n",
       "      'primary': True}],\n",
       "    'venuePage': {'id': '48205268'},\n",
       "    'referralId': 'v-1587211191',\n",
       "    'hasPerk': False},\n",
       "   {'id': '5319188d498e3fb409caa7fd',\n",
       "    'name': 'Carroll Place',\n",
       "    'location': {'address': '157 Bleecker St',\n",
       "     'crossStreet': 'btwn Thompson St & Sullivan St',\n",
       "     'lat': 40.728543776153494,\n",
       "     'lng': -73.99983388039426,\n",
       "     'labeledLatLngs': [{'label': 'display',\n",
       "       'lat': 40.728543776153494,\n",
       "       'lng': -73.99983388039426}],\n",
       "     'distance': 500,\n",
       "     'postalCode': '10012',\n",
       "     'cc': 'US',\n",
       "     'city': 'New York',\n",
       "     'state': 'NY',\n",
       "     'country': 'United States',\n",
       "     'formattedAddress': ['157 Bleecker St (btwn Thompson St & Sullivan St)',\n",
       "      'New York, NY 10012',\n",
       "      'United States']},\n",
       "    'categories': [{'id': '4bf58dd8d48988d110941735',\n",
       "      'name': 'Italian Restaurant',\n",
       "      'pluralName': 'Italian Restaurants',\n",
       "      'shortName': 'Italian',\n",
       "      'icon': {'prefix': 'https://ss3.4sqi.net/img/categories_v2/food/italian_',\n",
       "       'suffix': '.png'},\n",
       "      'primary': True}],\n",
       "    'delivery': {'id': '291932',\n",
       "     'url': 'https://www.seamless.com/menu/carroll-place--157-bleecker-st-new-york/291932?affiliate=1131&utm_source=foursquare-affiliate-network&utm_medium=affiliate&utm_campaign=1131&utm_content=291932',\n",
       "     'provider': {'name': 'seamless',\n",
       "      'icon': {'prefix': 'https://fastly.4sqi.net/img/general/cap/',\n",
       "       'sizes': [40, 50],\n",
       "       'name': '/delivery_provider_seamless_20180129.png'}}},\n",
       "    'venuePage': {'id': '81739454'},\n",
       "    'referralId': 'v-1587211191',\n",
       "    'hasPerk': False}],\n",
       "  'confident': False}}"
      ]
     },
     "execution_count": 14,
     "metadata": {},
     "output_type": "execute_result"
    }
   ],
   "source": [
    "nightlife_spots.json()"
   ]
  },
  {
   "cell_type": "code",
   "execution_count": null,
   "metadata": {},
   "outputs": [],
   "source": [
    "data = json.loads(res.c)\n",
    "data"
   ]
  }
 ],
 "metadata": {
  "kernelspec": {
   "display_name": "Python 3.6.9 64-bit",
   "language": "python",
   "name": "python36964bit17c6ebb0882a44ad96e177b7fffe16a0"
  },
  "language_info": {
   "codemirror_mode": {
    "name": "ipython",
    "version": 3
   },
   "file_extension": ".py",
   "mimetype": "text/x-python",
   "name": "python",
   "nbconvert_exporter": "python",
   "pygments_lexer": "ipython3",
   "version": "3.6.9"
  }
 },
 "nbformat": 4,
 "nbformat_minor": 4
}
