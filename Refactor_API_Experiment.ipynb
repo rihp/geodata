{
 "cells": [
  {
   "cell_type": "code",
   "execution_count": 1,
   "metadata": {},
   "outputs": [
    {
     "name": "stdout",
     "output_type": "stream",
     "text": [
      "\n",
      "    -----------------------\n",
      "    Welcome to Vesuvius \n",
      "    Version Alpha 001 \n",
      "    -----------------------\n",
      "    Today is 2020-04-18\n",
      "\n",
      "    \n"
     ]
    }
   ],
   "source": [
    "from dotenv import load_dotenv\n",
    "load_dotenv()\n",
    "\n",
    "import os\n",
    "import enricher\n",
    "import datetime\n",
    "\n",
    "\n",
    "def say_hi():\n",
    "    print(f\"\"\"\n",
    "    -----------------------\n",
    "    Welcome to Vesuvius \n",
    "    Version Alpha 001 \n",
    "    -----------------------\n",
    "    Today is {datetime.date.today()}\n",
    "\n",
    "    \"\"\")\n",
    "\n",
    "say_hi()"
   ]
  },
  {
   "cell_type": "code",
   "execution_count": 2,
   "metadata": {},
   "outputs": [],
   "source": [
    "# I have to make a function to melts Geopoints into 4SQ `ll` format\n",
    "# This will be the cluster points generated from the crunchbase dataset\n",
    "ll ='40.7243,-74.0018'"
   ]
  },
  {
   "cell_type": "code",
   "execution_count": 3,
   "metadata": {},
   "outputs": [
    {
     "name": "stdout",
     "output_type": "stream",
     "text": [
      "Requesting: https://api.foursquare.com/v2/venues/search,    venue_category: airport\n",
      "200\n",
      "Requesting: https://api.foursquare.com/v2/venues/search,    venue_category: heliport\n",
      "200\n"
     ]
    }
   ],
   "source": [
    "# Define a function that makes multiple categorized requests to the API,\n",
    "# and receive each request's RESPONSES in an interesting format:\n",
    "#   OUTPUT will be a DICT\n",
    "#      - Each key of the output will be one of the keys from the input\n",
    "#      - The len(array) of Input == len(dict.keys) of Output\n",
    "#      - The dict.values will be the response generated from the enricher.py module\n",
    "def cluster_request(cluster):\n",
    "    results = {}\n",
    "    for category in cluster:\n",
    "        results[category] = enricher.getCategoryFrom4SQ(ll,category)\n",
    "    return results\n",
    "\n",
    "# Call the function\n",
    "flight_points = ['airport', 'heliport']\n",
    "flight_points_cluster = cluster_request(flight_points)"
   ]
  },
  {
   "cell_type": "code",
   "execution_count": 4,
   "metadata": {},
   "outputs": [
    {
     "name": "stdout",
     "output_type": "stream",
     "text": [
      "{'meta': {'code': 200, 'requestId': '5e9b179cedbcad001fb9195e'}, 'response': {'venues': [{'id': '51844ccf498ef8b3d77b5cfd', 'name': 'JFK Gate 14', 'location': {'lat': 40.719505310058594, 'lng': -74.0009536743164, 'labeledLatLngs': [{'label': 'display', 'lat': 40.719505310058594, 'lng': -74.0009536743164}], 'distance': 538, 'cc': 'US', 'city': 'New York', 'state': 'NY', 'country': 'United States', 'formattedAddress': ['New York, NY', 'United States']}, 'categories': [{'id': '4bf58dd8d48988d1f0931735', 'name': 'Airport Gate', 'pluralName': 'Airport Gates', 'shortName': 'Gate', 'icon': {'prefix': 'https://ss3.4sqi.net/img/categories_v2/travel/airport_gate_', 'suffix': '.png'}, 'primary': True}], 'referralId': 'v-1587222476', 'hasPerk': False}, {'id': '4c45e7cc09ba952171fa3e00', 'name': 'PH Helipad', 'location': {'address': '25 5th Ave', 'lat': 40.73293770484568, 'lng': -73.99614225947748, 'labeledLatLngs': [{'label': 'display', 'lat': 40.73293770484568, 'lng': -73.99614225947748}], 'distance': 1073, 'postalCode': '10003', 'cc': 'US', 'city': 'New York', 'state': 'NY', 'country': 'United States', 'formattedAddress': ['25 5th Ave', 'New York, NY 10003', 'United States']}, 'categories': [{'id': '4bf58dd8d48988d1eb931735', 'name': 'Airport Terminal', 'pluralName': 'Airport Terminals', 'shortName': 'Terminal', 'icon': {'prefix': 'https://ss3.4sqi.net/img/categories_v2/travel/airport_gate_', 'suffix': '.png'}, 'primary': True}], 'referralId': 'v-1587222476', 'hasPerk': False}, {'id': '4c03018df423a59363b0cf16', 'name': 'Us Helicopter', 'location': {'lat': 40.702437069656874, 'lng': -74.0131224765933, 'labeledLatLngs': [{'label': 'display', 'lat': 40.702437069656874, 'lng': -74.0131224765933}], 'distance': 2614, 'postalCode': '10004', 'cc': 'US', 'city': 'New York', 'state': 'NY', 'country': 'United States', 'formattedAddress': ['New York, NY 10004', 'United States']}, 'categories': [{'id': '4bf58dd8d48988d1eb931735', 'name': 'Airport Terminal', 'pluralName': 'Airport Terminals', 'shortName': 'Terminal', 'icon': {'prefix': 'https://ss3.4sqi.net/img/categories_v2/travel/airport_gate_', 'suffix': '.png'}, 'primary': True}], 'referralId': 'v-1587222476', 'hasPerk': False}], 'confident': False}}\n"
     ]
    }
   ],
   "source": [
    "# Print the outcome completely\n",
    "#print(f\"\\n\\n`flight_points_cluster`, raw variable:\\n     {flight_points_cluster}\")\n",
    "print(flight_points_cluster['airport'].json())"
   ]
  },
  {
   "cell_type": "code",
   "execution_count": 5,
   "metadata": {
    "scrolled": true
   },
   "outputs": [
    {
     "name": "stdout",
     "output_type": "stream",
     "text": [
      " ~ Printing unwinded data\n",
      " ~ Printing key: airport\n",
      "<class 'requests.models.Response'>\n",
      " ~ Printing key: heliport\n",
      "<class 'requests.models.Response'>\n"
     ]
    }
   ],
   "source": [
    "# Print unwinded data\n",
    "import json\n",
    "\n",
    "print(\" ~ Printing unwinded data\")\n",
    "\n",
    "for key in flight_points:\n",
    "    print(f\" ~ Printing key: {key}\")\n",
    "    response = flight_points_cluster[key]\n",
    "    \n",
    "    with open('data.json', 'w', encoding='utf-8') as f:\n",
    "        json.dump(response.json(),f, ensure_ascii=False, indent=4)\n",
    "    #print(f\"{response.json()}\")\n",
    "    print(f\"{type(response)}\")\n",
    "    #print(f\" ~ Printing response.json():\")\n",
    "    #print(f\"{response.json()}\")\n",
    "       # for venue in response:\n",
    "        #    print(f\" ~ Printing venue: {venue}\")\n",
    "           # print(venue['name'],'\\n', venue['location'])\n"
   ]
  },
  {
   "cell_type": "markdown",
   "metadata": {},
   "source": [
    "# Now, I want to turn make the output from the foursquare request include a valid GeoPoint\n"
   ]
  },
  {
   "cell_type": "code",
   "execution_count": 6,
   "metadata": {},
   "outputs": [
    {
     "name": "stdout",
     "output_type": "stream",
     "text": [
      "dict_keys(['venues', 'confident'])\n",
      "Goldman Sachs Helipad\n"
     ]
    }
   ],
   "source": [
    "print(response.json()['response'].keys())\n",
    "print(response.json()['response']['venues'][0]['name'])\n",
    "#print(response.json()['response']['venues'][0]['location'])\n",
    "#loc = response.json()['response']['venues'][0]['location']"
   ]
  },
  {
   "cell_type": "code",
   "execution_count": 7,
   "metadata": {},
   "outputs": [
    {
     "data": {
      "text/plain": [
       "{'type': 'Point', 'coordinates': [-74.01064927751545, 40.7105313537633]}"
      ]
     },
     "execution_count": 7,
     "metadata": {},
     "output_type": "execute_result"
    }
   ],
   "source": [
    "#loc['lng'],loc['lat']\n",
    "def GeopointFrom4SQ(venue):\n",
    "    loc = venue['location']\n",
    "    return {\n",
    "        'type':'Point',\n",
    "        'coordinates':[\n",
    "            loc['lng'],\n",
    "            loc['lat']\n",
    "        ]\n",
    "    }\n",
    "\n",
    "GeopointFrom4SQ(response.json()['response']['venues'][0])"
   ]
  },
  {
   "cell_type": "code",
   "execution_count": 8,
   "metadata": {},
   "outputs": [
    {
     "name": "stdout",
     "output_type": "stream",
     "text": [
      "dict_keys(['meta', 'response'])\n",
      "{'type': 'Point', 'coordinates': [-74.01064927751545, 40.7105313537633]}\n",
      "{'type': 'Point', 'coordinates': [-74.009285, 40.701546]}\n",
      "{'type': 'Point', 'coordinates': [-74.008997, 40.701277]}\n",
      "{'type': 'Point', 'coordinates': [-74.00920036408506, 40.701621815401744]}\n",
      "{'type': 'Point', 'coordinates': [-74.00929212570189, 40.7016100104088]}\n"
     ]
    }
   ],
   "source": [
    "print(response.json().keys())\n",
    "\n",
    "#Access the venues key\n",
    "venues = response.json()['response']['venues']\n",
    "for venue in venues:\n",
    "  #  print(venue)\n",
    "    #for i in range(len(venues)):\n",
    "        print(GeopointFrom4SQ(venue)        )"
   ]
  },
  {
   "cell_type": "code",
   "execution_count": null,
   "metadata": {},
   "outputs": [],
   "source": []
  },
  {
   "cell_type": "code",
   "execution_count": null,
   "metadata": {},
   "outputs": [],
   "source": []
  },
  {
   "cell_type": "code",
   "execution_count": 9,
   "metadata": {},
   "outputs": [
    {
     "ename": "ZeroDivisionError",
     "evalue": "division by zero",
     "output_type": "error",
     "traceback": [
      "\u001b[0;31m---------------------------------------------------------------------------\u001b[0m",
      "\u001b[0;31mZeroDivisionError\u001b[0m                         Traceback (most recent call last)",
      "\u001b[0;32m<ipython-input-9-9ab73e148374>\u001b[0m in \u001b[0;36m<module>\u001b[0;34m\u001b[0m\n\u001b[0;32m----> 1\u001b[0;31m \u001b[0;36m0\u001b[0m\u001b[0;34m/\u001b[0m\u001b[0;36m0\u001b[0m\u001b[0;34m\u001b[0m\u001b[0;34m\u001b[0m\u001b[0m\n\u001b[0m",
      "\u001b[0;31mZeroDivisionError\u001b[0m: division by zero"
     ]
    }
   ],
   "source": [
    "0/0"
   ]
  },
  {
   "cell_type": "code",
   "execution_count": null,
   "metadata": {},
   "outputs": [],
   "source": []
  },
  {
   "cell_type": "code",
   "execution_count": null,
   "metadata": {},
   "outputs": [],
   "source": [
    "print(response.json().keys())\n",
    "for resp in response.json()['response']:\n",
    "    print(resp)\n",
    "    for i in range(len(resp)):\n",
    "        venue = response.json()['response']['venues'][i]\n",
    "        print(GeopointFrom4SQ(venue)        )"
   ]
  },
  {
   "cell_type": "code",
   "execution_count": null,
   "metadata": {
    "scrolled": true
   },
   "outputs": [],
   "source": [
    "# Print unwinded data\n",
    "print(\" ~ Printing unwinded data\")\n",
    "\n",
    "for key in flight_points:\n",
    "    print(f\" ~ Printing key: {key}\")\n",
    "    response = flight_points_cluster[key]\n",
    "    print(f\"{type(response)}\")\n",
    "    print(f\" ~ Printing response.json():\")\n",
    "    print(f\"{response.json()}\")\n",
    "       # for venue in response:\n",
    "        #    print(f\" ~ Printing venue: {venue}\")\n",
    "           # print(venue['name'],'\\n', venue['location'])\n"
   ]
  },
  {
   "cell_type": "code",
   "execution_count": null,
   "metadata": {},
   "outputs": [],
   "source": []
  },
  {
   "cell_type": "code",
   "execution_count": null,
   "metadata": {},
   "outputs": [],
   "source": []
  },
  {
   "cell_type": "code",
   "execution_count": null,
   "metadata": {},
   "outputs": [],
   "source": []
  },
  {
   "cell_type": "code",
   "execution_count": null,
   "metadata": {},
   "outputs": [],
   "source": []
  },
  {
   "cell_type": "code",
   "execution_count": null,
   "metadata": {
    "scrolled": true
   },
   "outputs": [],
   "source": [
    "# Print unwinded data\n",
    "print(\" ~ Printing unwinded data\")\n",
    "\n",
    "for key in flight_points:\n",
    "    print(f\" ~ Printing key: {key}\")\n",
    "    response = flight_points_cluster[key]\n",
    "    print(f\"{type(response)}\")\n",
    "    print(f\" ~ Printing response.json():\")\n",
    "    print(f\"{response.json()}\")\n",
    "       # for venue in response:\n",
    "        #    print(f\" ~ Printing venue: {venue}\")\n",
    "           # print(venue['name'],'\\n', venue['location'])\n"
   ]
  },
  {
   "cell_type": "code",
   "execution_count": null,
   "metadata": {
    "scrolled": true
   },
   "outputs": [],
   "source": [
    "# Print unwinded data\n",
    "print(\" ~ Printing unwinded data\")\n",
    "\n",
    "for key in flight_points:\n",
    "    print(f\" ~ Printing key: {key}\")\n",
    "    response = flight_points_cluster[key]\n",
    "    print(f\"{type(response)}\")\n",
    "    print(f\" ~ Printing response.json():\")\n",
    "    print(f\"{response.json()}\")\n",
    "       # for venue in response:\n",
    "        #    print(f\" ~ Printing venue: {venue}\")\n",
    "           # print(venue['name'],'\\n', venue['location'])\n"
   ]
  },
  {
   "cell_type": "code",
   "execution_count": null,
   "metadata": {},
   "outputs": [],
   "source": []
  },
  {
   "cell_type": "code",
   "execution_count": null,
   "metadata": {},
   "outputs": [],
   "source": [
    "0/0"
   ]
  },
  {
   "cell_type": "code",
   "execution_count": null,
   "metadata": {},
   "outputs": [],
   "source": [
    "def GeopointFrom4SQ(row):\n",
    "    \n",
    "    # Get the column with the object\n",
    "    office= row.offices \n",
    "    \n",
    "    # confirm that the variable contains a type() == dict:\n",
    "    if type (office) == dict:\n",
    "        \n",
    "        # Confirm that the data is available within the dict\n",
    "        if 'latitude' in office and 'longitude' in office:\n",
    "            \n",
    "            # Turn the Float values in the specified keys into GeoPoints:\n",
    "            if (type(office['latitude'])) == float and type(office['longitude']):\n",
    "                return ({\n",
    "                    'type': 'Point',\n",
    "                    'coordinates':[\n",
    "                        office['longitude'],\n",
    "                        office['latitude']\n",
    "                    ]\n",
    "                },\n",
    "                \"GeoPoint Found\")\n",
    "            elif (type(office['latitude'])) == None or type(office['longitude'] == None):\n",
    "                return (None, \"Lat or Lon are `None`\")\n",
    "            \n",
    "            # Explain possible errors \n",
    "            else:\n",
    "                return (None, (office['latitude'], office['longitude']))\n",
    "                #return (None, \"Lat or Lon are not Floats\")\n",
    "\n",
    "        else:\n",
    "            return(None, \"keys 'latitude' and 'longitude' weren't found.\")\n",
    "    else:\n",
    "        return (None, \"No office object found for this row\")\n",
    "    \n"
   ]
  }
 ],
 "metadata": {
  "kernelspec": {
   "display_name": "Python 3.6.9 64-bit",
   "language": "python",
   "name": "python36964bit17c6ebb0882a44ad96e177b7fffe16a0"
  },
  "language_info": {
   "codemirror_mode": {
    "name": "ipython",
    "version": 3
   },
   "file_extension": ".py",
   "mimetype": "text/x-python",
   "name": "python",
   "nbconvert_exporter": "python",
   "pygments_lexer": "ipython3",
   "version": "3.6.9"
  }
 },
 "nbformat": 4,
 "nbformat_minor": 4
}
