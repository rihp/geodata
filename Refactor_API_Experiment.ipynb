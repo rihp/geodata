{
 "cells": [
  {
   "cell_type": "code",
   "execution_count": 1,
   "metadata": {},
   "outputs": [
    {
     "name": "stdout",
     "output_type": "stream",
     "text": [
      "\n",
      "    -----------------------\n",
      "    Welcome to Vesuvius \n",
      "    Version Alpha 001 \n",
      "    -----------------------\n",
      "    Today is 2020-04-18\n",
      "\n",
      "    \n"
     ]
    }
   ],
   "source": [
    "from dotenv import load_dotenv\n",
    "load_dotenv()\n",
    "\n",
    "import os\n",
    "import enricher\n",
    "import datetime\n",
    "\n",
    "\n",
    "def say_hi():\n",
    "    print(f\"\"\"\n",
    "    -----------------------\n",
    "    Welcome to Vesuvius \n",
    "    Version Alpha 001 \n",
    "    -----------------------\n",
    "    Today is {datetime.date.today()}\n",
    "\n",
    "    \"\"\")\n",
    "\n",
    "say_hi()"
   ]
  },
  {
   "cell_type": "code",
   "execution_count": 3,
   "metadata": {},
   "outputs": [],
   "source": [
    "# I have to make a function to melts Geopoints into 4SQ `ll` format\n",
    "# This will be the cluster points generated from the crunchbase dataset\n",
    "ll ='40.7243,-74.0018'"
   ]
  },
  {
   "cell_type": "code",
   "execution_count": 4,
   "metadata": {},
   "outputs": [
    {
     "name": "stdout",
     "output_type": "stream",
     "text": [
      "Requesting: https://api.foursquare.com/v2/venues/search,    venue_category: airport\n",
      "200\n",
      "Requesting: https://api.foursquare.com/v2/venues/search,    venue_category: heliport\n",
      "200\n"
     ]
    }
   ],
   "source": [
    "# Define a function that makes multiple categorized requests to the API,\n",
    "# and receive each request's RESPONSES in an interesting format:\n",
    "#   OUTPUT will be a DICT\n",
    "#      - Each key of the output will be one of the keys from the input\n",
    "#      - The len(array) of Input == len(dict.keys) of Output\n",
    "#      - The dict.values will be the response generated from the enricher.py module\n",
    "def cluster_request(cluster):\n",
    "    results = {}\n",
    "    for category in cluster:\n",
    "        results[category] = enricher.getCategoryFrom4SQ(ll,category)\n",
    "    return results\n",
    "\n",
    "# Call the function\n",
    "flight_points = ['airport', 'heliport']\n",
    "flight_points_cluster = cluster_request(flight_points)"
   ]
  },
  {
   "cell_type": "code",
   "execution_count": 17,
   "metadata": {},
   "outputs": [
    {
     "name": "stdout",
     "output_type": "stream",
     "text": [
      "\n",
      "\n",
      "`flight_points_cluster`, raw variable:\n",
      "     {'airport': <Response [200]>, 'heliport': <Response [200]>}\n",
      "{'meta': {'code': 200, 'requestId': '5e9b0051c546f3001bbb126c'}, 'response': {'venues': [{'id': '51844ccf498ef8b3d77b5cfd', 'name': 'JFK Gate 14', 'location': {'lat': 40.719505310058594, 'lng': -74.0009536743164, 'labeledLatLngs': [{'label': 'display', 'lat': 40.719505310058594, 'lng': -74.0009536743164}], 'distance': 538, 'cc': 'US', 'city': 'New York', 'state': 'NY', 'country': 'United States', 'formattedAddress': ['New York, NY', 'United States']}, 'categories': [{'id': '4bf58dd8d48988d1f0931735', 'name': 'Airport Gate', 'pluralName': 'Airport Gates', 'shortName': 'Gate', 'icon': {'prefix': 'https://ss3.4sqi.net/img/categories_v2/travel/airport_gate_', 'suffix': '.png'}, 'primary': True}], 'referralId': 'v-1587216513', 'hasPerk': False}, {'id': '4c45e7cc09ba952171fa3e00', 'name': 'PH Helipad', 'location': {'address': '25 5th Ave', 'lat': 40.73293770484568, 'lng': -73.99614225947748, 'labeledLatLngs': [{'label': 'display', 'lat': 40.73293770484568, 'lng': -73.99614225947748}], 'distance': 1073, 'postalCode': '10003', 'cc': 'US', 'city': 'New York', 'state': 'NY', 'country': 'United States', 'formattedAddress': ['25 5th Ave', 'New York, NY 10003', 'United States']}, 'categories': [{'id': '4bf58dd8d48988d1eb931735', 'name': 'Airport Terminal', 'pluralName': 'Airport Terminals', 'shortName': 'Terminal', 'icon': {'prefix': 'https://ss3.4sqi.net/img/categories_v2/travel/airport_gate_', 'suffix': '.png'}, 'primary': True}], 'referralId': 'v-1587216513', 'hasPerk': False}, {'id': '4c03018df423a59363b0cf16', 'name': 'Us Helicopter', 'location': {'lat': 40.702437069656874, 'lng': -74.0131224765933, 'labeledLatLngs': [{'label': 'display', 'lat': 40.702437069656874, 'lng': -74.0131224765933}], 'distance': 2614, 'postalCode': '10004', 'cc': 'US', 'city': 'New York', 'state': 'NY', 'country': 'United States', 'formattedAddress': ['New York, NY 10004', 'United States']}, 'categories': [{'id': '4bf58dd8d48988d1eb931735', 'name': 'Airport Terminal', 'pluralName': 'Airport Terminals', 'shortName': 'Terminal', 'icon': {'prefix': 'https://ss3.4sqi.net/img/categories_v2/travel/airport_gate_', 'suffix': '.png'}, 'primary': True}], 'referralId': 'v-1587216513', 'hasPerk': False}], 'confident': False}}\n"
     ]
    }
   ],
   "source": [
    "# Print the outcome completely\n",
    "print(f\"\\n\\n`flight_points_cluster`, raw variable:\\n     {flight_points_cluster}\")\n",
    "print(flight_points_cluster['airport'].json())"
   ]
  },
  {
   "cell_type": "code",
   "execution_count": 20,
   "metadata": {
    "scrolled": true
   },
   "outputs": [
    {
     "name": "stdout",
     "output_type": "stream",
     "text": [
      " ~ Printing unwinded data\n",
      " ~ Printing key: airport\n",
      "<class 'requests.models.Response'>\n",
      " ~ Printing response.json():\n",
      "{'meta': {'code': 200, 'requestId': '5e9b0051c546f3001bbb126c'}, 'response': {'venues': [{'id': '51844ccf498ef8b3d77b5cfd', 'name': 'JFK Gate 14', 'location': {'lat': 40.719505310058594, 'lng': -74.0009536743164, 'labeledLatLngs': [{'label': 'display', 'lat': 40.719505310058594, 'lng': -74.0009536743164}], 'distance': 538, 'cc': 'US', 'city': 'New York', 'state': 'NY', 'country': 'United States', 'formattedAddress': ['New York, NY', 'United States']}, 'categories': [{'id': '4bf58dd8d48988d1f0931735', 'name': 'Airport Gate', 'pluralName': 'Airport Gates', 'shortName': 'Gate', 'icon': {'prefix': 'https://ss3.4sqi.net/img/categories_v2/travel/airport_gate_', 'suffix': '.png'}, 'primary': True}], 'referralId': 'v-1587216513', 'hasPerk': False}, {'id': '4c45e7cc09ba952171fa3e00', 'name': 'PH Helipad', 'location': {'address': '25 5th Ave', 'lat': 40.73293770484568, 'lng': -73.99614225947748, 'labeledLatLngs': [{'label': 'display', 'lat': 40.73293770484568, 'lng': -73.99614225947748}], 'distance': 1073, 'postalCode': '10003', 'cc': 'US', 'city': 'New York', 'state': 'NY', 'country': 'United States', 'formattedAddress': ['25 5th Ave', 'New York, NY 10003', 'United States']}, 'categories': [{'id': '4bf58dd8d48988d1eb931735', 'name': 'Airport Terminal', 'pluralName': 'Airport Terminals', 'shortName': 'Terminal', 'icon': {'prefix': 'https://ss3.4sqi.net/img/categories_v2/travel/airport_gate_', 'suffix': '.png'}, 'primary': True}], 'referralId': 'v-1587216513', 'hasPerk': False}, {'id': '4c03018df423a59363b0cf16', 'name': 'Us Helicopter', 'location': {'lat': 40.702437069656874, 'lng': -74.0131224765933, 'labeledLatLngs': [{'label': 'display', 'lat': 40.702437069656874, 'lng': -74.0131224765933}], 'distance': 2614, 'postalCode': '10004', 'cc': 'US', 'city': 'New York', 'state': 'NY', 'country': 'United States', 'formattedAddress': ['New York, NY 10004', 'United States']}, 'categories': [{'id': '4bf58dd8d48988d1eb931735', 'name': 'Airport Terminal', 'pluralName': 'Airport Terminals', 'shortName': 'Terminal', 'icon': {'prefix': 'https://ss3.4sqi.net/img/categories_v2/travel/airport_gate_', 'suffix': '.png'}, 'primary': True}], 'referralId': 'v-1587216513', 'hasPerk': False}], 'confident': False}}\n",
      " ~ Printing key: heliport\n",
      "<class 'requests.models.Response'>\n",
      " ~ Printing response.json():\n",
      "{'meta': {'code': 200, 'requestId': '5e9aff18660a9f001bd80aef'}, 'response': {'venues': [{'id': '51ed63ea498e3255078aa4d0', 'name': 'Goldman Sachs Helipad', 'location': {'lat': 40.7105313537633, 'lng': -74.01064927751545, 'labeledLatLngs': [{'label': 'display', 'lat': 40.7105313537633, 'lng': -74.01064927751545}], 'distance': 1704, 'cc': 'US', 'city': 'New York', 'state': 'NY', 'country': 'United States', 'formattedAddress': ['New York, NY', 'United States']}, 'categories': [{'id': '56aa371ce4b08b9a8d57356e', 'name': 'Heliport', 'pluralName': 'Heliports', 'shortName': 'Heliport', 'icon': {'prefix': 'https://ss3.4sqi.net/img/categories_v2/travel/default_', 'suffix': '.png'}, 'primary': True}], 'referralId': 'v-1587216513', 'hasPerk': False}, {'id': '5c0973f7535d6f002c7a6e60', 'name': 'Saker Aviation', 'location': {'lat': 40.701277, 'lng': -74.008997, 'labeledLatLngs': [{'label': 'display', 'lat': 40.701277, 'lng': -74.008997}], 'distance': 2633, 'postalCode': '10005', 'cc': 'US', 'city': 'New York', 'state': 'NY', 'country': 'United States', 'formattedAddress': ['New York, NY 10005', 'United States']}, 'categories': [{'id': '56aa371ce4b08b9a8d57356e', 'name': 'Heliport', 'pluralName': 'Heliports', 'shortName': 'Heliport', 'icon': {'prefix': 'https://ss3.4sqi.net/img/categories_v2/travel/default_', 'suffix': '.png'}, 'primary': True}], 'referralId': 'v-1587216513', 'hasPerk': False}, {'id': '57434c76498e4d16b2688b90', 'name': 'BLADE Lounge', 'location': {'address': '6 E River Bikeway', 'lat': 40.701546, 'lng': -74.009285, 'labeledLatLngs': [{'label': 'display', 'lat': 40.701546, 'lng': -74.009285}], 'distance': 2610, 'cc': 'US', 'city': 'New York', 'state': 'NY', 'country': 'United States', 'formattedAddress': ['6 E River Bikeway', 'New York, NY', 'United States']}, 'categories': [{'id': '56aa371ce4b08b9a8d57356e', 'name': 'Heliport', 'pluralName': 'Heliports', 'shortName': 'Heliport', 'icon': {'prefix': 'https://ss3.4sqi.net/img/categories_v2/travel/default_', 'suffix': '.png'}, 'primary': True}], 'referralId': 'v-1587216513', 'hasPerk': False}, {'id': '4c128a4b1b5cef3b75c5edc4', 'name': 'Manhattan Helicopters', 'location': {'address': '6 E River Piers', 'crossStreet': 'btw Broad St & Old Slip on South St', 'lat': 40.7016100104088, 'lng': -74.00929212570189, 'labeledLatLngs': [{'label': 'display', 'lat': 40.7016100104088, 'lng': -74.00929212570189}], 'distance': 2603, 'postalCode': '10004', 'cc': 'US', 'city': 'New York', 'state': 'NY', 'country': 'United States', 'formattedAddress': ['6 E River Piers (btw Broad St & Old Slip on South St)', 'New York, NY 10004', 'United States']}, 'categories': [{'id': '56aa371ce4b08b9a8d57356e', 'name': 'Heliport', 'pluralName': 'Heliports', 'shortName': 'Heliport', 'icon': {'prefix': 'https://ss3.4sqi.net/img/categories_v2/travel/default_', 'suffix': '.png'}, 'primary': True}], 'referralId': 'v-1587216513', 'hasPerk': False}, {'id': '4a3556c0f964a520d49c1fe3', 'name': 'Downtown Manhattan Heliport', 'location': {'address': 'Pier 6', 'crossStreet': 'South St and Broad St', 'lat': 40.701621815401744, 'lng': -74.00920036408506, 'labeledLatLngs': [{'label': 'display', 'lat': 40.701621815401744, 'lng': -74.00920036408506}], 'distance': 2600, 'postalCode': '10004', 'cc': 'US', 'city': 'New York', 'state': 'NY', 'country': 'United States', 'formattedAddress': ['Pier 6 (South St and Broad St)', 'New York, NY 10004', 'United States']}, 'categories': [{'id': '56aa371ce4b08b9a8d57356e', 'name': 'Heliport', 'pluralName': 'Heliports', 'shortName': 'Heliport', 'icon': {'prefix': 'https://ss3.4sqi.net/img/categories_v2/travel/default_', 'suffix': '.png'}, 'primary': True}], 'referralId': 'v-1587216513', 'hasPerk': False}], 'confident': False}}\n"
     ]
    }
   ],
   "source": [
    "# Print unwinded data\n",
    "print(\" ~ Printing unwinded data\")\n",
    "\n",
    "for key in flight_points:\n",
    "    print(f\" ~ Printing key: {key}\")\n",
    "    response = flight_points_cluster[key]\n",
    "    print(f\"{type(response)}\")\n",
    "    print(f\" ~ Printing response.json():\")\n",
    "    print(f\"{response.json()}\")\n",
    "       # for venue in response:\n",
    "        #    print(f\" ~ Printing venue: {venue}\")\n",
    "           # print(venue['name'],'\\n', venue['location'])\n"
   ]
  },
  {
   "cell_type": "code",
   "execution_count": 20,
   "metadata": {
    "scrolled": true
   },
   "outputs": [
    {
     "name": "stdout",
     "output_type": "stream",
     "text": [
      " ~ Printing unwinded data\n",
      " ~ Printing key: airport\n",
      "<class 'requests.models.Response'>\n",
      " ~ Printing response.json():\n",
      "{'meta': {'code': 200, 'requestId': '5e9b0051c546f3001bbb126c'}, 'response': {'venues': [{'id': '51844ccf498ef8b3d77b5cfd', 'name': 'JFK Gate 14', 'location': {'lat': 40.719505310058594, 'lng': -74.0009536743164, 'labeledLatLngs': [{'label': 'display', 'lat': 40.719505310058594, 'lng': -74.0009536743164}], 'distance': 538, 'cc': 'US', 'city': 'New York', 'state': 'NY', 'country': 'United States', 'formattedAddress': ['New York, NY', 'United States']}, 'categories': [{'id': '4bf58dd8d48988d1f0931735', 'name': 'Airport Gate', 'pluralName': 'Airport Gates', 'shortName': 'Gate', 'icon': {'prefix': 'https://ss3.4sqi.net/img/categories_v2/travel/airport_gate_', 'suffix': '.png'}, 'primary': True}], 'referralId': 'v-1587216513', 'hasPerk': False}, {'id': '4c45e7cc09ba952171fa3e00', 'name': 'PH Helipad', 'location': {'address': '25 5th Ave', 'lat': 40.73293770484568, 'lng': -73.99614225947748, 'labeledLatLngs': [{'label': 'display', 'lat': 40.73293770484568, 'lng': -73.99614225947748}], 'distance': 1073, 'postalCode': '10003', 'cc': 'US', 'city': 'New York', 'state': 'NY', 'country': 'United States', 'formattedAddress': ['25 5th Ave', 'New York, NY 10003', 'United States']}, 'categories': [{'id': '4bf58dd8d48988d1eb931735', 'name': 'Airport Terminal', 'pluralName': 'Airport Terminals', 'shortName': 'Terminal', 'icon': {'prefix': 'https://ss3.4sqi.net/img/categories_v2/travel/airport_gate_', 'suffix': '.png'}, 'primary': True}], 'referralId': 'v-1587216513', 'hasPerk': False}, {'id': '4c03018df423a59363b0cf16', 'name': 'Us Helicopter', 'location': {'lat': 40.702437069656874, 'lng': -74.0131224765933, 'labeledLatLngs': [{'label': 'display', 'lat': 40.702437069656874, 'lng': -74.0131224765933}], 'distance': 2614, 'postalCode': '10004', 'cc': 'US', 'city': 'New York', 'state': 'NY', 'country': 'United States', 'formattedAddress': ['New York, NY 10004', 'United States']}, 'categories': [{'id': '4bf58dd8d48988d1eb931735', 'name': 'Airport Terminal', 'pluralName': 'Airport Terminals', 'shortName': 'Terminal', 'icon': {'prefix': 'https://ss3.4sqi.net/img/categories_v2/travel/airport_gate_', 'suffix': '.png'}, 'primary': True}], 'referralId': 'v-1587216513', 'hasPerk': False}], 'confident': False}}\n",
      " ~ Printing key: heliport\n",
      "<class 'requests.models.Response'>\n",
      " ~ Printing response.json():\n",
      "{'meta': {'code': 200, 'requestId': '5e9aff18660a9f001bd80aef'}, 'response': {'venues': [{'id': '51ed63ea498e3255078aa4d0', 'name': 'Goldman Sachs Helipad', 'location': {'lat': 40.7105313537633, 'lng': -74.01064927751545, 'labeledLatLngs': [{'label': 'display', 'lat': 40.7105313537633, 'lng': -74.01064927751545}], 'distance': 1704, 'cc': 'US', 'city': 'New York', 'state': 'NY', 'country': 'United States', 'formattedAddress': ['New York, NY', 'United States']}, 'categories': [{'id': '56aa371ce4b08b9a8d57356e', 'name': 'Heliport', 'pluralName': 'Heliports', 'shortName': 'Heliport', 'icon': {'prefix': 'https://ss3.4sqi.net/img/categories_v2/travel/default_', 'suffix': '.png'}, 'primary': True}], 'referralId': 'v-1587216513', 'hasPerk': False}, {'id': '5c0973f7535d6f002c7a6e60', 'name': 'Saker Aviation', 'location': {'lat': 40.701277, 'lng': -74.008997, 'labeledLatLngs': [{'label': 'display', 'lat': 40.701277, 'lng': -74.008997}], 'distance': 2633, 'postalCode': '10005', 'cc': 'US', 'city': 'New York', 'state': 'NY', 'country': 'United States', 'formattedAddress': ['New York, NY 10005', 'United States']}, 'categories': [{'id': '56aa371ce4b08b9a8d57356e', 'name': 'Heliport', 'pluralName': 'Heliports', 'shortName': 'Heliport', 'icon': {'prefix': 'https://ss3.4sqi.net/img/categories_v2/travel/default_', 'suffix': '.png'}, 'primary': True}], 'referralId': 'v-1587216513', 'hasPerk': False}, {'id': '57434c76498e4d16b2688b90', 'name': 'BLADE Lounge', 'location': {'address': '6 E River Bikeway', 'lat': 40.701546, 'lng': -74.009285, 'labeledLatLngs': [{'label': 'display', 'lat': 40.701546, 'lng': -74.009285}], 'distance': 2610, 'cc': 'US', 'city': 'New York', 'state': 'NY', 'country': 'United States', 'formattedAddress': ['6 E River Bikeway', 'New York, NY', 'United States']}, 'categories': [{'id': '56aa371ce4b08b9a8d57356e', 'name': 'Heliport', 'pluralName': 'Heliports', 'shortName': 'Heliport', 'icon': {'prefix': 'https://ss3.4sqi.net/img/categories_v2/travel/default_', 'suffix': '.png'}, 'primary': True}], 'referralId': 'v-1587216513', 'hasPerk': False}, {'id': '4c128a4b1b5cef3b75c5edc4', 'name': 'Manhattan Helicopters', 'location': {'address': '6 E River Piers', 'crossStreet': 'btw Broad St & Old Slip on South St', 'lat': 40.7016100104088, 'lng': -74.00929212570189, 'labeledLatLngs': [{'label': 'display', 'lat': 40.7016100104088, 'lng': -74.00929212570189}], 'distance': 2603, 'postalCode': '10004', 'cc': 'US', 'city': 'New York', 'state': 'NY', 'country': 'United States', 'formattedAddress': ['6 E River Piers (btw Broad St & Old Slip on South St)', 'New York, NY 10004', 'United States']}, 'categories': [{'id': '56aa371ce4b08b9a8d57356e', 'name': 'Heliport', 'pluralName': 'Heliports', 'shortName': 'Heliport', 'icon': {'prefix': 'https://ss3.4sqi.net/img/categories_v2/travel/default_', 'suffix': '.png'}, 'primary': True}], 'referralId': 'v-1587216513', 'hasPerk': False}, {'id': '4a3556c0f964a520d49c1fe3', 'name': 'Downtown Manhattan Heliport', 'location': {'address': 'Pier 6', 'crossStreet': 'South St and Broad St', 'lat': 40.701621815401744, 'lng': -74.00920036408506, 'labeledLatLngs': [{'label': 'display', 'lat': 40.701621815401744, 'lng': -74.00920036408506}], 'distance': 2600, 'postalCode': '10004', 'cc': 'US', 'city': 'New York', 'state': 'NY', 'country': 'United States', 'formattedAddress': ['Pier 6 (South St and Broad St)', 'New York, NY 10004', 'United States']}, 'categories': [{'id': '56aa371ce4b08b9a8d57356e', 'name': 'Heliport', 'pluralName': 'Heliports', 'shortName': 'Heliport', 'icon': {'prefix': 'https://ss3.4sqi.net/img/categories_v2/travel/default_', 'suffix': '.png'}, 'primary': True}], 'referralId': 'v-1587216513', 'hasPerk': False}], 'confident': False}}\n"
     ]
    }
   ],
   "source": [
    "# Print unwinded data\n",
    "import json\n",
    "\n",
    "print(\" ~ Printing unwinded data\")\n",
    "\n",
    "for key in flight_points:\n",
    "    print(f\" ~ Printing key: {key}\")\n",
    "    response = flight_points_cluster[key]\n",
    "    \n",
    "    \n",
    "\n",
    "    with open('data.json', 'w', encoding='utf-8') as f:\n",
    "        json.dump(data,f, ensure_ascii=False, indent=4)\n",
    "    print(f\"{response.json()}\")\n",
    "    print(f\"{type(response)}\")\n",
    "    print(f\" ~ Printing response.json():\")\n",
    "    print(f\"{response.json()}\")\n",
    "       # for venue in response:\n",
    "        #    print(f\" ~ Printing venue: {venue}\")\n",
    "           # print(venue['name'],'\\n', venue['location'])\n"
   ]
  },
  {
   "cell_type": "code",
   "execution_count": null,
   "metadata": {},
   "outputs": [],
   "source": []
  },
  {
   "cell_type": "code",
   "execution_count": null,
   "metadata": {},
   "outputs": [],
   "source": []
  }
 ],
 "metadata": {
  "kernelspec": {
   "display_name": "Python 3.6.9 64-bit",
   "language": "python",
   "name": "python36964bit17c6ebb0882a44ad96e177b7fffe16a0"
  },
  "language_info": {
   "codemirror_mode": {
    "name": "ipython",
    "version": 3
   },
   "file_extension": ".py",
   "mimetype": "text/x-python",
   "name": "python",
   "nbconvert_exporter": "python",
   "pygments_lexer": "ipython3",
   "version": "3.6.9"
  }
 },
 "nbformat": 4,
 "nbformat_minor": 4
}
