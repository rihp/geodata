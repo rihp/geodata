{
 "cells": [
  {
   "cell_type": "code",
   "execution_count": 1,
   "metadata": {},
   "outputs": [],
   "source": [
    "from pymongo import MongoClient\n",
    "import numpy as np\n",
    "import pandas as pd\n"
   ]
  },
  {
   "cell_type": "code",
   "execution_count": 2,
   "metadata": {
    "scrolled": true
   },
   "outputs": [
    {
     "data": {
      "text/plain": [
       "<pymongo.cursor.Cursor at 0x7f3635fa02b0>"
      ]
     },
     "execution_count": 2,
     "metadata": {},
     "output_type": "execute_result"
    }
   ],
   "source": [
    "client = MongoClient('mongodb://localhost/companies')\n",
    "db = client.companies\n",
    "col = db.geo_one\n",
    "col.find({})"
   ]
  },
  {
   "cell_type": "markdown",
   "metadata": {},
   "source": [
    "# Sample Data"
   ]
  },
  {
   "cell_type": "code",
   "execution_count": 3,
   "metadata": {
    "scrolled": true
   },
   "outputs": [
    {
     "data": {
      "text/plain": [
       "[{'_id': ObjectId('5e9dae164fae396022816343'),\n",
       "  'venue_location': {'PointCategory': 'business office',\n",
       "   'GeoPoint': {'type': 'Point', 'coordinates': [-95.712891, 37.09024]}}},\n",
       " {'_id': ObjectId('5e9dae41f98fc5f1ff8e32ff'),\n",
       "  'venue_location': {'name': 'Starbucks',\n",
       "   'GeoPoint': {'type': 'Point',\n",
       "    'coordinates': [-95.7081298828125, 37.09497833251953]},\n",
       "   'PointCategory': {'source': '4square location',\n",
       "    'categories_names': 'Coffee Shop',\n",
       "    'categories_raw': [{'id': '4bf58dd8d48988d1e0931735',\n",
       "      'name': 'Coffee Shop',\n",
       "      'pluralName': 'Coffee Shops',\n",
       "      'shortName': 'Coffee Shop',\n",
       "      'icon': {'prefix': 'https://ss3.4sqi.net/img/categories_v2/food/coffeeshop_',\n",
       "       'suffix': '.png'},\n",
       "      'primary': True}],\n",
       "    'formattedAddress': ['Amerika Birleşik Devletleri',\n",
       "     'Kansas',\n",
       "     'United States']}}}]"
      ]
     },
     "execution_count": 3,
     "metadata": {},
     "output_type": "execute_result"
    }
   ],
   "source": [
    "list(col.find({\"venue_location.GeoPoint\":  {\n",
    "                                        \"$near\": { \n",
    "                                            \"$geometry\": {\n",
    "                                                  \"type\": \"Point\" ,\n",
    "                                                  \"coordinates\": [ -95.712891, 37.09024 ]\n",
    "                                            },\n",
    "                                        }\n",
    "                                        }}, {\"venue_location\":1}).limit(2))"
   ]
  },
  {
   "cell_type": "markdown",
   "metadata": {},
   "source": [
    "# # These are all the `categories_names` it has found on MongoDB"
   ]
  },
  {
   "cell_type": "code",
   "execution_count": 4,
   "metadata": {},
   "outputs": [
    {
     "data": {
      "text/plain": [
       "{'Advertising Agency',\n",
       " 'Airport',\n",
       " 'Airport Gate',\n",
       " 'Airport Lounge',\n",
       " 'Airport Service',\n",
       " 'Airport Terminal',\n",
       " 'Airport Tram',\n",
       " 'American Restaurant',\n",
       " 'Arcade',\n",
       " 'Automotive Shop',\n",
       " 'Bagel Shop',\n",
       " 'Bakery',\n",
       " 'Bank',\n",
       " 'Bar',\n",
       " 'Baseball Field',\n",
       " 'Basketball Court',\n",
       " 'Beach Bar',\n",
       " 'Beer Bar',\n",
       " 'Beer Garden',\n",
       " 'Bookstore',\n",
       " 'Bowling Alley',\n",
       " 'Breakfast Spot',\n",
       " 'Brewery',\n",
       " 'Building',\n",
       " 'Burger Joint',\n",
       " 'Business Center',\n",
       " 'Business Service',\n",
       " 'Café',\n",
       " 'Campaign Office',\n",
       " 'Child Care Service',\n",
       " 'Church',\n",
       " 'City Hall',\n",
       " 'Cocktail Bar',\n",
       " 'Coffee Shop',\n",
       " 'College Rec Center',\n",
       " 'Conference Room',\n",
       " 'Convention Center',\n",
       " 'Corporate Cafeteria',\n",
       " 'Corporate Coffee Shop',\n",
       " 'Coworking Space',\n",
       " 'Daycare',\n",
       " 'Distillery',\n",
       " 'Dive Bar',\n",
       " \"Doctor's Office\",\n",
       " 'Dog Run',\n",
       " 'Donut Shop',\n",
       " 'Elementary School',\n",
       " 'Event Space',\n",
       " 'Financial or Legal Service',\n",
       " 'Food Court',\n",
       " 'Gastropub',\n",
       " 'Gay Bar',\n",
       " 'General College & University',\n",
       " 'General Entertainment',\n",
       " 'German Restaurant',\n",
       " 'Go Kart Track',\n",
       " 'Government Building',\n",
       " 'Grocery Store',\n",
       " 'Gym',\n",
       " 'Gym / Fitness Center',\n",
       " 'Hawaiian Restaurant',\n",
       " 'Heliport',\n",
       " 'High School',\n",
       " 'Home Service',\n",
       " 'Hotel',\n",
       " 'Italian Restaurant',\n",
       " 'Japanese Restaurant',\n",
       " 'Juice Bar',\n",
       " 'Lawyer',\n",
       " 'Library',\n",
       " 'Liquor Store',\n",
       " 'Lounge',\n",
       " 'Mediterranean Restaurant',\n",
       " 'Meeting Room',\n",
       " 'Movie Theater',\n",
       " 'Museum',\n",
       " 'New American Restaurant',\n",
       " 'Night Market',\n",
       " 'Nightclub',\n",
       " 'Non-Profit',\n",
       " 'Office',\n",
       " 'Other Nightlife',\n",
       " 'Park',\n",
       " 'Piercing Parlor',\n",
       " 'Pizza Place',\n",
       " 'Playground',\n",
       " 'Pool',\n",
       " 'Pool Hall',\n",
       " 'Preschool',\n",
       " 'Pub',\n",
       " 'Resort',\n",
       " 'Restaurant',\n",
       " 'Sake Bar',\n",
       " 'Salon / Barbershop',\n",
       " 'Sandwich Place',\n",
       " 'School',\n",
       " 'Shopping Mall',\n",
       " 'Spa',\n",
       " 'Speakeasy',\n",
       " 'Steakhouse',\n",
       " 'Strip Club',\n",
       " 'Supermarket',\n",
       " 'Tech Startup',\n",
       " 'Tiki Bar',\n",
       " 'Travel Lounge',\n",
       " 'Video Store',\n",
       " 'Vietnamese Restaurant',\n",
       " 'Whisky Bar'}"
      ]
     },
     "execution_count": 4,
     "metadata": {},
     "output_type": "execute_result"
    }
   ],
   "source": [
    "cur = col.find({},{\"venue_location.PointCategory.categories_names\":1})\n",
    "categs = []\n",
    "#for e in list(cur):\n",
    " #   (e['venue_location']['PointCategory']['categories_names'])\n",
    "for e in list(cur):\n",
    "    try: \n",
    "        categs.append(e['venue_location']['PointCategory']['categories_names'])\n",
    "    except:\n",
    "        pass\n",
    "    \n",
    "\n",
    "set(categs)"
   ]
  },
  {
   "cell_type": "markdown",
   "metadata": {},
   "source": [
    "# Use the `$near` operator to query the `categories_names` within the `office_coords` specified `radius`"
   ]
  },
  {
   "cell_type": "code",
   "execution_count": 5,
   "metadata": {},
   "outputs": [],
   "source": [
    "# Count how many airports and heliports are near the queried office"
   ]
  },
  {
   "cell_type": "code",
   "execution_count": 6,
   "metadata": {},
   "outputs": [],
   "source": [
    "# Query a cursor only with offices \n",
    "offices = list(col.find({\"venue_location.PointCategory\":\"business office\"},\n",
    "                        {\"venue_location.GeoPoint\":1}))\n"
   ]
  },
  {
   "cell_type": "code",
   "execution_count": 7,
   "metadata": {
    "scrolled": false
   },
   "outputs": [
    {
     "data": {
      "text/plain": [
       "['Elementary School']"
      ]
     },
     "execution_count": 7,
     "metadata": {},
     "output_type": "execute_result"
    }
   ],
   "source": [
    "def exploreNeighborhood(office_coords, specific_category, radius):\n",
    "    \"\"\"\n",
    "    Query an specific category name\n",
    "    INPUT \n",
    "     - A [long,latt] array\n",
    "     - A single categoy to use as filter @ the `venue_location.PointCategory.categories_names` key\n",
    "     - A Radius\n",
    "    OUTPUT\n",
    "     - A sum of how many venues fit the specific category given that `coords` and `radius`\n",
    "    \"\"\"\n",
    "    cursor = col.find({\"venue_location.GeoPoint\":  {\n",
    "                                        \"$near\": { \n",
    "                                            \"$geometry\": {\n",
    "                                                  \"type\": \"Point\" ,\n",
    "                                                # Array or coords here\n",
    "                                                  \"coordinates\": office_coords\n",
    "                                            },\n",
    "                                            # Specify the maximum radius of the query\n",
    "                                            \"$maxDistance\":radius,\n",
    "                                        }\n",
    "                            },\n",
    "                        # Specify the correct 'categories_names' values\n",
    "                        'venue_location.PointCategory.categories_names': specific_category,\n",
    "                        },\n",
    "                        # Project only the `categories_names` values\n",
    "                        {\"venue_location.PointCategory.categories_names\":1}\n",
    "                           )\n",
    "    \n",
    "    #print(cursor)\n",
    "    # Loop the resulting cursor, and try to return the category found\n",
    "    try:\n",
    "        for venue in cursor:\n",
    "            yield venue['venue_location']['PointCategory']['categories_names']\n",
    "    except:\n",
    "        return []\n",
    "\n",
    "\n",
    "specific_category = 'Elementary School'\n",
    "list(exploreNeighborhood([ -95.712891, 37.09024 ], specific_category, 10000))"
   ]
  },
  {
   "cell_type": "markdown",
   "metadata": {},
   "source": [
    "# Query all `specific_categories` from a `filter_category`, using an arbitraty `array coordinates` variable"
   ]
  },
  {
   "cell_type": "code",
   "execution_count": 8,
   "metadata": {
    "scrolled": true
   },
   "outputs": [
    {
     "data": {
      "text/plain": [
       "[0, 1, 8]"
      ]
     },
     "execution_count": 8,
     "metadata": {},
     "output_type": "execute_result"
    }
   ],
   "source": [
    "def evaluateNeighborhood(office_coords, filter_categories, radius):\n",
    "    \"\"\"\n",
    "    INPUT:\n",
    "       - An array with coordinates\n",
    "    OUTPUT:\n",
    "       - A new Array with the number of occurrences of such `specific_category` within the radius\n",
    "    \"\"\"\n",
    "    for specific_category in filter_categories:\n",
    "        query = list(exploreNeighborhood(office_coords, specific_category, radius))\n",
    "        #print(f\" ~ evaluateNeighborhood found: {query.count(specific_category)} '{specific_category}'\")\n",
    "        yield query.count(specific_category)\n",
    "        \n",
    "        #print(venues)\n",
    "        #for specific_category in filter_categories:\n",
    "         #       if venues.count(specific_category) > 0:\n",
    "\n",
    "\n",
    "kids_venues = ['Daycare', 'Preschool', 'Elementary School']\n",
    "filter_categories = kids_venues\n",
    "list(evaluateNeighborhood([ -95.712891, 37.09024 ], filter_categories, 100000))"
   ]
  },
  {
   "cell_type": "markdown",
   "metadata": {},
   "source": [
    "# Turn all the coordinates in the database into rows in a panda dataframe"
   ]
  },
  {
   "cell_type": "code",
   "execution_count": 9,
   "metadata": {},
   "outputs": [],
   "source": [
    "def findOfficeCoords(document):\n",
    "    \"\"\"\n",
    "    INPUT: \n",
    "     - A MongoDB object which has a GeoPoint\n",
    "    OUTPUT:\n",
    "     - The Coordinates for the object's GeoPoint\n",
    "    \"\"\"\n",
    "    return document['venue_location']['GeoPoint']['coordinates']"
   ]
  },
  {
   "cell_type": "code",
   "execution_count": 10,
   "metadata": {},
   "outputs": [
    {
     "name": "stdout",
     "output_type": "stream",
     "text": [
      "[-73.985506, 40.757929]\n"
     ]
    }
   ],
   "source": [
    "# Take a list of offices which made some good money\n",
    "candidate_locations = list(col.find({\"funding_rounds.raised_amount\": {\"$gt\":1000000}},\n",
    "                                    {\"venue_location.GeoPoint\":1}))\n",
    "\n",
    "# Example of one of the results of the query\n",
    "print(candidate_locations[0]['venue_location']['GeoPoint']['coordinates'])\n",
    "\n",
    "# Use a mapping function to re-shape the results of our previous query \n",
    "def gc(cursor):\n",
    "    for document in cursor:\n",
    "        #yield( str(document['venue_location']['GeoPoint']['coordinates']))     # For a `str` of a `array_coords`\n",
    "        yield( document['venue_location']['GeoPoint']['coordinates'] )         # For an actual `array` of coors"
   ]
  },
  {
   "cell_type": "markdown",
   "metadata": {},
   "source": [
    "# Make a decent dataframe to work with\n",
    "\n",
    "At this point, the keys should be changed to include the correctkeys"
   ]
  },
  {
   "cell_type": "code",
   "execution_count": 11,
   "metadata": {
    "scrolled": true
   },
   "outputs": [
    {
     "data": {
      "text/html": [
       "<div>\n",
       "<style scoped>\n",
       "    .dataframe tbody tr th:only-of-type {\n",
       "        vertical-align: middle;\n",
       "    }\n",
       "\n",
       "    .dataframe tbody tr th {\n",
       "        vertical-align: top;\n",
       "    }\n",
       "\n",
       "    .dataframe thead th {\n",
       "        text-align: right;\n",
       "    }\n",
       "</style>\n",
       "<table border=\"1\" class=\"dataframe\">\n",
       "  <thead>\n",
       "    <tr style=\"text-align: right;\">\n",
       "      <th></th>\n",
       "      <th>0</th>\n",
       "      <th>1</th>\n",
       "    </tr>\n",
       "  </thead>\n",
       "  <tbody>\n",
       "    <tr>\n",
       "      <th>0</th>\n",
       "      <td>-73.985506</td>\n",
       "      <td>40.757929</td>\n",
       "    </tr>\n",
       "    <tr>\n",
       "      <th>1</th>\n",
       "      <td>-111.903500</td>\n",
       "      <td>33.817100</td>\n",
       "    </tr>\n",
       "    <tr>\n",
       "      <th>2</th>\n",
       "      <td>-122.323895</td>\n",
       "      <td>37.566879</td>\n",
       "    </tr>\n",
       "    <tr>\n",
       "      <th>3</th>\n",
       "      <td>-122.398599</td>\n",
       "      <td>37.798853</td>\n",
       "    </tr>\n",
       "    <tr>\n",
       "      <th>4</th>\n",
       "      <td>-118.445243</td>\n",
       "      <td>34.047312</td>\n",
       "    </tr>\n",
       "  </tbody>\n",
       "</table>\n",
       "</div>"
      ],
      "text/plain": [
       "            0          1\n",
       "0  -73.985506  40.757929\n",
       "1 -111.903500  33.817100\n",
       "2 -122.323895  37.566879\n",
       "3 -122.398599  37.798853\n",
       "4 -118.445243  34.047312"
      ]
     },
     "execution_count": 11,
     "metadata": {},
     "output_type": "execute_result"
    }
   ],
   "source": [
    "df = pd.DataFrame(gc(\n",
    "    candidate_locations)\n",
    "                 ).drop_duplicates(\n",
    "    ).reset_index(\n",
    "    ).drop(columns='index')\n",
    "dfx = df.copy()\n",
    "dfx.head()"
   ]
  },
  {
   "cell_type": "markdown",
   "metadata": {},
   "source": [
    "# Try to count venues of certain categories around a GeoPoint"
   ]
  },
  {
   "cell_type": "code",
   "execution_count": 12,
   "metadata": {
    "scrolled": false
   },
   "outputs": [
    {
     "name": "stderr",
     "output_type": "stream",
     "text": [
      "/home/rh/.local/lib/python3.6/site-packages/ipykernel_launcher.py:10: SettingWithCopyWarning: \n",
      "A value is trying to be set on a copy of a slice from a DataFrame\n",
      "\n",
      "See the caveats in the documentation: https://pandas.pydata.org/pandas-docs/stable/user_guide/indexing.html#returning-a-view-versus-a-copy\n",
      "  # Remove the CWD from sys.path while we load stuff.\n"
     ]
    },
    {
     "data": {
      "text/html": [
       "<div>\n",
       "<style scoped>\n",
       "    .dataframe tbody tr th:only-of-type {\n",
       "        vertical-align: middle;\n",
       "    }\n",
       "\n",
       "    .dataframe tbody tr th {\n",
       "        vertical-align: top;\n",
       "    }\n",
       "\n",
       "    .dataframe thead th {\n",
       "        text-align: right;\n",
       "    }\n",
       "</style>\n",
       "<table border=\"1\" class=\"dataframe\">\n",
       "  <thead>\n",
       "    <tr style=\"text-align: right;\">\n",
       "      <th></th>\n",
       "      <th>0</th>\n",
       "      <th>1</th>\n",
       "      <th>Daycare</th>\n",
       "      <th>Preschool</th>\n",
       "      <th>Elementary School</th>\n",
       "    </tr>\n",
       "  </thead>\n",
       "  <tbody>\n",
       "    <tr>\n",
       "      <th>0</th>\n",
       "      <td>-73.985506</td>\n",
       "      <td>40.757929</td>\n",
       "      <td>7</td>\n",
       "      <td>0</td>\n",
       "      <td>7</td>\n",
       "    </tr>\n",
       "    <tr>\n",
       "      <th>1</th>\n",
       "      <td>-111.903500</td>\n",
       "      <td>33.817100</td>\n",
       "      <td>0</td>\n",
       "      <td>0</td>\n",
       "      <td>0</td>\n",
       "    </tr>\n",
       "    <tr>\n",
       "      <th>2</th>\n",
       "      <td>-122.323895</td>\n",
       "      <td>37.566879</td>\n",
       "      <td>0</td>\n",
       "      <td>10</td>\n",
       "      <td>0</td>\n",
       "    </tr>\n",
       "    <tr>\n",
       "      <th>3</th>\n",
       "      <td>-122.398599</td>\n",
       "      <td>37.798853</td>\n",
       "      <td>8</td>\n",
       "      <td>6</td>\n",
       "      <td>0</td>\n",
       "    </tr>\n",
       "    <tr>\n",
       "      <th>4</th>\n",
       "      <td>-118.445243</td>\n",
       "      <td>34.047312</td>\n",
       "      <td>0</td>\n",
       "      <td>0</td>\n",
       "      <td>0</td>\n",
       "    </tr>\n",
       "  </tbody>\n",
       "</table>\n",
       "</div>"
      ],
      "text/plain": [
       "            0          1  Daycare  Preschool  Elementary School\n",
       "0  -73.985506  40.757929        7          0                  7\n",
       "1 -111.903500  33.817100        0          0                  0\n",
       "2 -122.323895  37.566879        0         10                  0\n",
       "3 -122.398599  37.798853        8          6                  0\n",
       "4 -118.445243  34.047312        0          0                  0"
      ]
     },
     "execution_count": 12,
     "metadata": {},
     "output_type": "execute_result"
    }
   ],
   "source": [
    "# Loop the specific categories\n",
    "for specific_category in filter_categories:\n",
    "    \n",
    "    # Make a place-holder column for them\n",
    "    dfx[specific_category] = np.arange(len(dfx[0]))\n",
    "    \n",
    "    # loop that column's row, and sum how many of venues have a `categories_names` in the `specific_categories`\n",
    "    for i in np.arange(len(dfx[0])):\n",
    "        dfx[specific_category][i] = sum(\n",
    "            list(evaluateNeighborhood([dfx[0][i], dfx[1][i]], [specific_category], 3000)))\n",
    "        #  print(list(evaluateNeighborhood([dfx[0][0], dfx[1][0]], filter_categories, 100000)))\n",
    "dfx.head(5)"
   ]
  },
  {
   "cell_type": "markdown",
   "metadata": {},
   "source": [
    "# The `BigPicture`\n",
    "\n",
    "Integrate all possible `filter_categories`, alog with their `radius` into a single dict"
   ]
  },
  {
   "cell_type": "code",
   "execution_count": 13,
   "metadata": {},
   "outputs": [],
   "source": [
    "# Define the specific_categories each in a groupped Array\n",
    "coffee_venues = ['Coffee Shop', 'Café']\n",
    "transport_venues = ['Heliport', \"Airport Terminal\", \"Airport\"]\n",
    "nightlife_venues = ['Bar', 'Beer Garden']\n",
    "kids_venues = ['Daycare', 'Preschool', 'Elementary School']\n",
    "\n",
    "# Then set the `Big Picture`: Which `categories` are matched to the maximum radius\n",
    "BigPicture = {'coffee_venues':    (['Café', 'Coffee Shop', 'Bagel Shop', 'Bakery',\n",
    "                                   'Corporate Cafeteria', 'Corporate Coffee Shop'], 200),\n",
    "              \n",
    "              'airport_venues':   (['Airport', 'Airport Terminal'] ,        10000),\n",
    "              \n",
    "              'nightlife_venues': (['Bar', 'Beach Bar',  'Beer Bar',  'Beer Garden', 'Bowling Alley',\n",
    "                                    'Brewery', 'Burger Joint', 'Cocktail Bar', 'Arcade', 'Distillery',\n",
    "                                    'Dive Bar','Whisky Bar' 'Sake Bar','Pub', 'Piercing Parlor',\n",
    "                                    'Other Nightlife', 'Movie Theater', 'Night Market', 'Nightclub',\n",
    "                                    'Lounge', 'Gastropub', 'Tiki Bar'] ,      1000),\n",
    "              \n",
    "              'kids_venues':      (['Daycare', 'School', 'Preschool', 'Pool',\n",
    "                                    'Pool Hall', 'Playground', 'Park', 'High School',\n",
    "                                    'Elementary School', 'Museum']  ,        1000),\n",
    "              \n",
    "              'basketball_court': (['Basketball Court'], 1500),\n",
    "              \n",
    "              'business_perks':   (['Travel Lounge', 'Tech Startup',  'Meeting Room',\n",
    "                                     'Event Space', 'Business Center', 'Business Service', \n",
    "                                     'Conference Room',  'Convention Center',  'Coworking Space',\n",
    "                                      'Advertising Agency', 'Office'], 1500 ),\n",
    "              \n",
    "              'lifestyle_perks':  (['Pizza Place', 'Sandwich Place',  'Donut Shop', 'Juice Bar', \n",
    "                                    'Salon / Barbershop' ] , 500)\n",
    "             }"
   ]
  },
  {
   "cell_type": "code",
   "execution_count": 14,
   "metadata": {
    "scrolled": false
   },
   "outputs": [],
   "source": [
    "# Loop the specific categories\n",
    "dfz = df.copy()\n"
   ]
  },
  {
   "cell_type": "markdown",
   "metadata": {},
   "source": [
    "# Aggregate the occurrences of each filter_categories"
   ]
  },
  {
   "cell_type": "code",
   "execution_count": 15,
   "metadata": {
    "scrolled": true
   },
   "outputs": [
    {
     "name": "stderr",
     "output_type": "stream",
     "text": [
      "/home/rh/.local/lib/python3.6/site-packages/ipykernel_launcher.py:18: SettingWithCopyWarning: \n",
      "A value is trying to be set on a copy of a slice from a DataFrame\n",
      "\n",
      "See the caveats in the documentation: https://pandas.pydata.org/pandas-docs/stable/user_guide/indexing.html#returning-a-view-versus-a-copy\n"
     ]
    },
    {
     "data": {
      "text/html": [
       "<div>\n",
       "<style scoped>\n",
       "    .dataframe tbody tr th:only-of-type {\n",
       "        vertical-align: middle;\n",
       "    }\n",
       "\n",
       "    .dataframe tbody tr th {\n",
       "        vertical-align: top;\n",
       "    }\n",
       "\n",
       "    .dataframe thead th {\n",
       "        text-align: right;\n",
       "    }\n",
       "</style>\n",
       "<table border=\"1\" class=\"dataframe\">\n",
       "  <thead>\n",
       "    <tr style=\"text-align: right;\">\n",
       "      <th></th>\n",
       "      <th>0</th>\n",
       "      <th>1</th>\n",
       "      <th>nightlife_venues</th>\n",
       "      <th>coffee_venues</th>\n",
       "      <th>kids_venues</th>\n",
       "      <th>business_perks</th>\n",
       "      <th>airport_venues</th>\n",
       "      <th>basketball_court</th>\n",
       "      <th>lifestyle_perks</th>\n",
       "    </tr>\n",
       "  </thead>\n",
       "  <tbody>\n",
       "    <tr>\n",
       "      <th>0</th>\n",
       "      <td>-73.985506</td>\n",
       "      <td>40.757929</td>\n",
       "      <td>0</td>\n",
       "      <td>0</td>\n",
       "      <td>0</td>\n",
       "      <td>42</td>\n",
       "      <td>14</td>\n",
       "      <td>0</td>\n",
       "      <td>0</td>\n",
       "    </tr>\n",
       "    <tr>\n",
       "      <th>1</th>\n",
       "      <td>-111.903500</td>\n",
       "      <td>33.817100</td>\n",
       "      <td>0</td>\n",
       "      <td>0</td>\n",
       "      <td>0</td>\n",
       "      <td>0</td>\n",
       "      <td>3</td>\n",
       "      <td>0</td>\n",
       "      <td>0</td>\n",
       "    </tr>\n",
       "    <tr>\n",
       "      <th>2</th>\n",
       "      <td>-122.323895</td>\n",
       "      <td>37.566879</td>\n",
       "      <td>3</td>\n",
       "      <td>0</td>\n",
       "      <td>5</td>\n",
       "      <td>0</td>\n",
       "      <td>41</td>\n",
       "      <td>0</td>\n",
       "      <td>0</td>\n",
       "    </tr>\n",
       "    <tr>\n",
       "      <th>3</th>\n",
       "      <td>-122.398599</td>\n",
       "      <td>37.798853</td>\n",
       "      <td>0</td>\n",
       "      <td>0</td>\n",
       "      <td>0</td>\n",
       "      <td>30</td>\n",
       "      <td>0</td>\n",
       "      <td>0</td>\n",
       "      <td>0</td>\n",
       "    </tr>\n",
       "    <tr>\n",
       "      <th>4</th>\n",
       "      <td>-118.445243</td>\n",
       "      <td>34.047312</td>\n",
       "      <td>0</td>\n",
       "      <td>0</td>\n",
       "      <td>3</td>\n",
       "      <td>3</td>\n",
       "      <td>0</td>\n",
       "      <td>0</td>\n",
       "      <td>0</td>\n",
       "    </tr>\n",
       "    <tr>\n",
       "      <th>5</th>\n",
       "      <td>-122.161523</td>\n",
       "      <td>37.446823</td>\n",
       "      <td>3</td>\n",
       "      <td>0</td>\n",
       "      <td>6</td>\n",
       "      <td>15</td>\n",
       "      <td>2</td>\n",
       "      <td>0</td>\n",
       "      <td>0</td>\n",
       "    </tr>\n",
       "    <tr>\n",
       "      <th>6</th>\n",
       "      <td>-118.405418</td>\n",
       "      <td>34.069849</td>\n",
       "      <td>3</td>\n",
       "      <td>0</td>\n",
       "      <td>0</td>\n",
       "      <td>0</td>\n",
       "      <td>0</td>\n",
       "      <td>0</td>\n",
       "      <td>3</td>\n",
       "    </tr>\n",
       "    <tr>\n",
       "      <th>7</th>\n",
       "      <td>-122.325470</td>\n",
       "      <td>37.564538</td>\n",
       "      <td>3</td>\n",
       "      <td>0</td>\n",
       "      <td>5</td>\n",
       "      <td>0</td>\n",
       "      <td>41</td>\n",
       "      <td>0</td>\n",
       "      <td>0</td>\n",
       "    </tr>\n",
       "    <tr>\n",
       "      <th>8</th>\n",
       "      <td>34.759500</td>\n",
       "      <td>32.055400</td>\n",
       "      <td>0</td>\n",
       "      <td>0</td>\n",
       "      <td>0</td>\n",
       "      <td>0</td>\n",
       "      <td>0</td>\n",
       "      <td>0</td>\n",
       "      <td>0</td>\n",
       "    </tr>\n",
       "    <tr>\n",
       "      <th>9</th>\n",
       "      <td>-118.243425</td>\n",
       "      <td>34.052187</td>\n",
       "      <td>3</td>\n",
       "      <td>0</td>\n",
       "      <td>0</td>\n",
       "      <td>0</td>\n",
       "      <td>0</td>\n",
       "      <td>0</td>\n",
       "      <td>0</td>\n",
       "    </tr>\n",
       "    <tr>\n",
       "      <th>10</th>\n",
       "      <td>-0.208979</td>\n",
       "      <td>51.518190</td>\n",
       "      <td>0</td>\n",
       "      <td>0</td>\n",
       "      <td>0</td>\n",
       "      <td>0</td>\n",
       "      <td>0</td>\n",
       "      <td>0</td>\n",
       "      <td>0</td>\n",
       "    </tr>\n",
       "    <tr>\n",
       "      <th>11</th>\n",
       "      <td>-74.035379</td>\n",
       "      <td>40.748104</td>\n",
       "      <td>0</td>\n",
       "      <td>0</td>\n",
       "      <td>7</td>\n",
       "      <td>0</td>\n",
       "      <td>0</td>\n",
       "      <td>0</td>\n",
       "      <td>0</td>\n",
       "    </tr>\n",
       "    <tr>\n",
       "      <th>12</th>\n",
       "      <td>-104.999845</td>\n",
       "      <td>39.749671</td>\n",
       "      <td>0</td>\n",
       "      <td>0</td>\n",
       "      <td>0</td>\n",
       "      <td>0</td>\n",
       "      <td>0</td>\n",
       "      <td>0</td>\n",
       "      <td>0</td>\n",
       "    </tr>\n",
       "    <tr>\n",
       "      <th>13</th>\n",
       "      <td>-73.987764</td>\n",
       "      <td>40.744618</td>\n",
       "      <td>21</td>\n",
       "      <td>0</td>\n",
       "      <td>0</td>\n",
       "      <td>63</td>\n",
       "      <td>0</td>\n",
       "      <td>0</td>\n",
       "      <td>0</td>\n",
       "    </tr>\n",
       "    <tr>\n",
       "      <th>14</th>\n",
       "      <td>-71.208921</td>\n",
       "      <td>42.485102</td>\n",
       "      <td>0</td>\n",
       "      <td>0</td>\n",
       "      <td>0</td>\n",
       "      <td>0</td>\n",
       "      <td>0</td>\n",
       "      <td>0</td>\n",
       "      <td>0</td>\n",
       "    </tr>\n",
       "    <tr>\n",
       "      <th>15</th>\n",
       "      <td>-121.955879</td>\n",
       "      <td>37.270518</td>\n",
       "      <td>0</td>\n",
       "      <td>0</td>\n",
       "      <td>0</td>\n",
       "      <td>0</td>\n",
       "      <td>0</td>\n",
       "      <td>0</td>\n",
       "      <td>0</td>\n",
       "    </tr>\n",
       "    <tr>\n",
       "      <th>16</th>\n",
       "      <td>-71.247560</td>\n",
       "      <td>42.318138</td>\n",
       "      <td>0</td>\n",
       "      <td>0</td>\n",
       "      <td>0</td>\n",
       "      <td>0</td>\n",
       "      <td>0</td>\n",
       "      <td>0</td>\n",
       "      <td>0</td>\n",
       "    </tr>\n",
       "    <tr>\n",
       "      <th>17</th>\n",
       "      <td>-122.408914</td>\n",
       "      <td>37.777995</td>\n",
       "      <td>6</td>\n",
       "      <td>0</td>\n",
       "      <td>9</td>\n",
       "      <td>42</td>\n",
       "      <td>0</td>\n",
       "      <td>10</td>\n",
       "      <td>0</td>\n",
       "    </tr>\n",
       "    <tr>\n",
       "      <th>18</th>\n",
       "      <td>-122.419209</td>\n",
       "      <td>37.775206</td>\n",
       "      <td>3</td>\n",
       "      <td>3</td>\n",
       "      <td>6</td>\n",
       "      <td>20</td>\n",
       "      <td>0</td>\n",
       "      <td>0</td>\n",
       "      <td>0</td>\n",
       "    </tr>\n",
       "    <tr>\n",
       "      <th>19</th>\n",
       "      <td>-122.384349</td>\n",
       "      <td>37.665648</td>\n",
       "      <td>0</td>\n",
       "      <td>0</td>\n",
       "      <td>0</td>\n",
       "      <td>0</td>\n",
       "      <td>40</td>\n",
       "      <td>0</td>\n",
       "      <td>0</td>\n",
       "    </tr>\n",
       "    <tr>\n",
       "      <th>20</th>\n",
       "      <td>-3.706176</td>\n",
       "      <td>40.445515</td>\n",
       "      <td>0</td>\n",
       "      <td>0</td>\n",
       "      <td>0</td>\n",
       "      <td>0</td>\n",
       "      <td>0</td>\n",
       "      <td>0</td>\n",
       "      <td>0</td>\n",
       "    </tr>\n",
       "  </tbody>\n",
       "</table>\n",
       "</div>"
      ],
      "text/plain": [
       "             0          1  nightlife_venues  coffee_venues  kids_venues  \\\n",
       "0   -73.985506  40.757929                 0              0            0   \n",
       "1  -111.903500  33.817100                 0              0            0   \n",
       "2  -122.323895  37.566879                 3              0            5   \n",
       "3  -122.398599  37.798853                 0              0            0   \n",
       "4  -118.445243  34.047312                 0              0            3   \n",
       "5  -122.161523  37.446823                 3              0            6   \n",
       "6  -118.405418  34.069849                 3              0            0   \n",
       "7  -122.325470  37.564538                 3              0            5   \n",
       "8    34.759500  32.055400                 0              0            0   \n",
       "9  -118.243425  34.052187                 3              0            0   \n",
       "10   -0.208979  51.518190                 0              0            0   \n",
       "11  -74.035379  40.748104                 0              0            7   \n",
       "12 -104.999845  39.749671                 0              0            0   \n",
       "13  -73.987764  40.744618                21              0            0   \n",
       "14  -71.208921  42.485102                 0              0            0   \n",
       "15 -121.955879  37.270518                 0              0            0   \n",
       "16  -71.247560  42.318138                 0              0            0   \n",
       "17 -122.408914  37.777995                 6              0            9   \n",
       "18 -122.419209  37.775206                 3              3            6   \n",
       "19 -122.384349  37.665648                 0              0            0   \n",
       "20   -3.706176  40.445515                 0              0            0   \n",
       "\n",
       "    business_perks  airport_venues  basketball_court  lifestyle_perks  \n",
       "0               42              14                 0                0  \n",
       "1                0               3                 0                0  \n",
       "2                0              41                 0                0  \n",
       "3               30               0                 0                0  \n",
       "4                3               0                 0                0  \n",
       "5               15               2                 0                0  \n",
       "6                0               0                 0                3  \n",
       "7                0              41                 0                0  \n",
       "8                0               0                 0                0  \n",
       "9                0               0                 0                0  \n",
       "10               0               0                 0                0  \n",
       "11               0               0                 0                0  \n",
       "12               0               0                 0                0  \n",
       "13              63               0                 0                0  \n",
       "14               0               0                 0                0  \n",
       "15               0               0                 0                0  \n",
       "16               0               0                 0                0  \n",
       "17              42               0                10                0  \n",
       "18              20               0                 0                0  \n",
       "19               0              40                 0                0  \n",
       "20               0               0                 0                0  "
      ]
     },
     "execution_count": 15,
     "metadata": {},
     "output_type": "execute_result"
    }
   ],
   "source": [
    "# What are our BigPicture keys called?\n",
    "keys = {'basketball_court', 'coffee_venues', 'airport_venues',\n",
    "        'kids_venues', 'nightlife_venues',  'business_perks','lifestyle_perks'} \n",
    "\n",
    "for key in keys:\n",
    "    #Open the door, unpack your bag\n",
    "    filter_categories = BigPicture[key][0]\n",
    "    radius = BigPicture[key][1]\n",
    "    \n",
    "    for specific_category in filter_categories:\n",
    "\n",
    "        # Make a place-holder column for the filter_categories bin\n",
    "        dfz[key] = np.arange(len(dfz[0]))\n",
    "\n",
    "        # loop that column's row, and sum how many of venues have a `categories_names` in the `specific_categories`\n",
    "        for i in np.arange(len(dfz[0])):\n",
    "            dfz[key][i] = sum(\n",
    "                list(evaluateNeighborhood([dfz[0][i], dfz[1][i]], filter_categories, radius)))\n",
    "            #  print(list(evaluateNeighborhood([dfx[0][0], dfx[1][0]], filter_categories, 100000)))\n",
    "dfz"
   ]
  },
  {
   "cell_type": "markdown",
   "metadata": {},
   "source": [
    "# Our top 5 options 🏁️\n",
    "Use the `pd.DataFrame.sort_values()` method to specify minimum requirements in the best order possible"
   ]
  },
  {
   "cell_type": "code",
   "execution_count": 16,
   "metadata": {
    "scrolled": false
   },
   "outputs": [],
   "source": [
    "sol = dfz.sort_values(by = ['airport_venues', 'coffee_venues', 'kids_venues',\n",
    "                     'basketball_court','business_perks'], ascending=False).head()"
   ]
  },
  {
   "cell_type": "code",
   "execution_count": 17,
   "metadata": {
    "scrolled": true
   },
   "outputs": [
    {
     "data": {
      "text/html": [
       "<div>\n",
       "<style scoped>\n",
       "    .dataframe tbody tr th:only-of-type {\n",
       "        vertical-align: middle;\n",
       "    }\n",
       "\n",
       "    .dataframe tbody tr th {\n",
       "        vertical-align: top;\n",
       "    }\n",
       "\n",
       "    .dataframe thead th {\n",
       "        text-align: right;\n",
       "    }\n",
       "</style>\n",
       "<table border=\"1\" class=\"dataframe\">\n",
       "  <thead>\n",
       "    <tr style=\"text-align: right;\">\n",
       "      <th></th>\n",
       "      <th>0</th>\n",
       "      <th>1</th>\n",
       "      <th>nightlife_venues</th>\n",
       "      <th>coffee_venues</th>\n",
       "      <th>kids_venues</th>\n",
       "      <th>business_perks</th>\n",
       "      <th>airport_venues</th>\n",
       "      <th>basketball_court</th>\n",
       "      <th>lifestyle_perks</th>\n",
       "    </tr>\n",
       "  </thead>\n",
       "  <tbody>\n",
       "    <tr>\n",
       "      <th>2</th>\n",
       "      <td>-122.323895</td>\n",
       "      <td>37.566879</td>\n",
       "      <td>3</td>\n",
       "      <td>0</td>\n",
       "      <td>5</td>\n",
       "      <td>0</td>\n",
       "      <td>41</td>\n",
       "      <td>0</td>\n",
       "      <td>0</td>\n",
       "    </tr>\n",
       "    <tr>\n",
       "      <th>7</th>\n",
       "      <td>-122.325470</td>\n",
       "      <td>37.564538</td>\n",
       "      <td>3</td>\n",
       "      <td>0</td>\n",
       "      <td>5</td>\n",
       "      <td>0</td>\n",
       "      <td>41</td>\n",
       "      <td>0</td>\n",
       "      <td>0</td>\n",
       "    </tr>\n",
       "    <tr>\n",
       "      <th>19</th>\n",
       "      <td>-122.384349</td>\n",
       "      <td>37.665648</td>\n",
       "      <td>0</td>\n",
       "      <td>0</td>\n",
       "      <td>0</td>\n",
       "      <td>0</td>\n",
       "      <td>40</td>\n",
       "      <td>0</td>\n",
       "      <td>0</td>\n",
       "    </tr>\n",
       "    <tr>\n",
       "      <th>0</th>\n",
       "      <td>-73.985506</td>\n",
       "      <td>40.757929</td>\n",
       "      <td>0</td>\n",
       "      <td>0</td>\n",
       "      <td>0</td>\n",
       "      <td>42</td>\n",
       "      <td>14</td>\n",
       "      <td>0</td>\n",
       "      <td>0</td>\n",
       "    </tr>\n",
       "    <tr>\n",
       "      <th>1</th>\n",
       "      <td>-111.903500</td>\n",
       "      <td>33.817100</td>\n",
       "      <td>0</td>\n",
       "      <td>0</td>\n",
       "      <td>0</td>\n",
       "      <td>0</td>\n",
       "      <td>3</td>\n",
       "      <td>0</td>\n",
       "      <td>0</td>\n",
       "    </tr>\n",
       "  </tbody>\n",
       "</table>\n",
       "</div>"
      ],
      "text/plain": [
       "             0          1  nightlife_venues  coffee_venues  kids_venues  \\\n",
       "2  -122.323895  37.566879                 3              0            5   \n",
       "7  -122.325470  37.564538                 3              0            5   \n",
       "19 -122.384349  37.665648                 0              0            0   \n",
       "0   -73.985506  40.757929                 0              0            0   \n",
       "1  -111.903500  33.817100                 0              0            0   \n",
       "\n",
       "    business_perks  airport_venues  basketball_court  lifestyle_perks  \n",
       "2                0              41                 0                0  \n",
       "7                0              41                 0                0  \n",
       "19               0              40                 0                0  \n",
       "0               42              14                 0                0  \n",
       "1                0               3                 0                0  "
      ]
     },
     "execution_count": 17,
     "metadata": {},
     "output_type": "execute_result"
    }
   ],
   "source": [
    "sol.to_csv('OUTPUT/my-top-locations.csv')\n",
    "sol"
   ]
  },
  {
   "cell_type": "markdown",
   "metadata": {},
   "source": [
    "Just by looking at our top 5 selections, we can see that there's a pattern around the -110/30 and the -120/40 coordinates"
   ]
  },
  {
   "cell_type": "markdown",
   "metadata": {},
   "source": [
    "# Playground:\n",
    "\n",
    "### With the top results, assign a `top` value to return the mean coordinate point of the desired ranking.\n",
    "\n",
    "### Set `top=1` to receive the best-ranked point.\n"
   ]
  },
  {
   "cell_type": "code",
   "execution_count": 18,
   "metadata": {},
   "outputs": [
    {
     "data": {
      "text/html": [
       "<div style=\"width:100%;\"><div style=\"position:relative;width:100%;height:0;padding-bottom:60%;\"><iframe src=\"about:blank\" style=\"position:absolute;width:100%;height:100%;left:0;top:0;border:none !important;\" data-html=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 onload=\"this.contentDocument.open();this.contentDocument.write(atob(this.getAttribute('data-html')));this.contentDocument.close();\" allowfullscreen webkitallowfullscreen mozallowfullscreen></iframe></div></div>"
      ],
      "text/plain": [
       "<folium.folium.Map at 0x7f3601312940>"
      ]
     },
     "execution_count": 18,
     "metadata": {},
     "output_type": "execute_result"
    }
   ],
   "source": [
    "import folium\n",
    "top = 3\n",
    "\n",
    "# We take the mean of the `top` results:\n",
    "location = [sol[1].head(top).mean(),sol[0].head(top).mean()]\n",
    "\n",
    "m = folium.Map(location=location, zoom_start=12              )\n",
    "\n",
    "folium.Marker(location, \n",
    "              popup=f'<i>This was the result of your ponderation. You chose <b>the mean of the top {top} results</b>.</i>', \n",
    "              tooltip='Click me!'\n",
    "             ).add_to(m)\n",
    "m"
   ]
  },
  {
   "cell_type": "code",
   "execution_count": 19,
   "metadata": {},
   "outputs": [],
   "source": [
    " # The mean latitude and longitude of our solution"
   ]
  },
  {
   "cell_type": "code",
   "execution_count": null,
   "metadata": {},
   "outputs": [],
   "source": []
  },
  {
   "cell_type": "code",
   "execution_count": null,
   "metadata": {},
   "outputs": [],
   "source": []
  },
  {
   "cell_type": "code",
   "execution_count": null,
   "metadata": {},
   "outputs": [],
   "source": []
  },
  {
   "cell_type": "code",
   "execution_count": null,
   "metadata": {},
   "outputs": [],
   "source": []
  },
  {
   "cell_type": "code",
   "execution_count": null,
   "metadata": {},
   "outputs": [],
   "source": []
  },
  {
   "cell_type": "code",
   "execution_count": null,
   "metadata": {},
   "outputs": [],
   "source": []
  },
  {
   "cell_type": "code",
   "execution_count": 20,
   "metadata": {},
   "outputs": [],
   "source": [
    "#Dont look below... this is old code that i dont want to get rid of just yet."
   ]
  },
  {
   "cell_type": "code",
   "execution_count": 21,
   "metadata": {},
   "outputs": [
    {
     "ename": "ZeroDivisionError",
     "evalue": "division by zero",
     "output_type": "error",
     "traceback": [
      "\u001b[0;31m---------------------------------------------------------------------------\u001b[0m",
      "\u001b[0;31mZeroDivisionError\u001b[0m                         Traceback (most recent call last)",
      "\u001b[0;32m<ipython-input-21-6790dcd3ede6>\u001b[0m in \u001b[0;36m<module>\u001b[0;34m\u001b[0m\n\u001b[0;32m----> 1\u001b[0;31m \u001b[0;36m0\u001b[0m\u001b[0;34m/\u001b[0m\u001b[0;36m0\u001b[0m\u001b[0;34m\u001b[0m\u001b[0;34m\u001b[0m\u001b[0m\n\u001b[0m\u001b[1;32m      2\u001b[0m \u001b[0;32mfor\u001b[0m \u001b[0mspecific_category\u001b[0m \u001b[0;32min\u001b[0m \u001b[0mfilter_categories\u001b[0m\u001b[0;34m:\u001b[0m\u001b[0;34m\u001b[0m\u001b[0;34m\u001b[0m\u001b[0m\n\u001b[1;32m      3\u001b[0m \u001b[0;34m\u001b[0m\u001b[0m\n\u001b[1;32m      4\u001b[0m         \u001b[0;31m# Make a place-holder column for the filter_categories bin\u001b[0m\u001b[0;34m\u001b[0m\u001b[0;34m\u001b[0m\u001b[0;34m\u001b[0m\u001b[0m\n\u001b[1;32m      5\u001b[0m         \u001b[0mdfz\u001b[0m\u001b[0;34m[\u001b[0m\u001b[0mkey\u001b[0m\u001b[0;34m]\u001b[0m \u001b[0;34m=\u001b[0m \u001b[0mnp\u001b[0m\u001b[0;34m.\u001b[0m\u001b[0marange\u001b[0m\u001b[0;34m(\u001b[0m\u001b[0mlen\u001b[0m\u001b[0;34m(\u001b[0m\u001b[0mdfz\u001b[0m\u001b[0;34m[\u001b[0m\u001b[0;36m0\u001b[0m\u001b[0;34m]\u001b[0m\u001b[0;34m)\u001b[0m\u001b[0;34m)\u001b[0m\u001b[0;34m\u001b[0m\u001b[0;34m\u001b[0m\u001b[0m\n",
      "\u001b[0;31mZeroDivisionError\u001b[0m: division by zero"
     ]
    }
   ],
   "source": [
    "0/0\n",
    "for specific_category in filter_categories:\n",
    "\n",
    "        # Make a place-holder column for the filter_categories bin\n",
    "        dfz[key] = np.arange(len(dfz[0]))\n",
    "\n",
    "        # loop that column's row, and sum how many of venues have a `categories_names` in the `specific_categories`\n",
    "        for i in np.arange(len(dfz[0])):\n",
    "            dfz[key][i] = sum(\n",
    "                list(evaluateNeighborhood([dfz[0][i], dfz[1][i]], filter_categories, 10000)))\n",
    "            #  print(list(evaluateNeighborhood([dfx[0][0], dfx[1][0]], filter_categories, 100000)))\n",
    "dfz"
   ]
  },
  {
   "cell_type": "code",
   "execution_count": null,
   "metadata": {},
   "outputs": [],
   "source": [
    "0/0"
   ]
  },
  {
   "cell_type": "code",
   "execution_count": null,
   "metadata": {
    "scrolled": true
   },
   "outputs": [],
   "source": [
    "# Add the necessary columns\n",
    "keys = {'Airport', 'Coffee', 'Basketball'}    # These should be the `filter_categories`\n",
    "for key in keys:\n",
    "    dfx[key] = df.copy()\n",
    "dfx.head(3)"
   ]
  },
  {
   "cell_type": "code",
   "execution_count": null,
   "metadata": {},
   "outputs": [],
   "source": [
    "#Avoid double querying by creating a list of coordinates which have already been evaluated\n",
    "\"\"\"\n",
    "evaluated = []                \n",
    "for document in offices:      \n",
    "    office_coords = document['venue_location']['GeoPoint']['coordinates']\n",
    "    if office_coords in evaluated:\n",
    "        pass\n",
    "    else:\n",
    "        print(f\"\\nEvaluating this office location: {office_coords}\")\n",
    "        evaluateNeighborhood(office_coords, filter_categories, 10000)\n",
    "        evaluated.append(office_coords)\n",
    "        \n",
    "\"\"\""
   ]
  },
  {
   "cell_type": "code",
   "execution_count": null,
   "metadata": {},
   "outputs": [],
   "source": []
  },
  {
   "cell_type": "code",
   "execution_count": null,
   "metadata": {},
   "outputs": [],
   "source": [
    "# INPUT a cursor\n",
    "# OUTPUT : choose a GeoPoint or a `coords_array`\n",
    "#getcoords = lambda cur : cur['venue_location']                              # For the complete GeoPoint\n",
    "#getcoords = lambda cur : cur['venue_location']['GeoPoint']['coordinates']    # For the coords_array\n",
    "candidate_locations2 = map(gc, candidate_locations)\n",
    "\n",
    "\n",
    "candidate_locations3 = []\n",
    "for coords_array in list(candidate_locations2):\n",
    "    candidate_locations3.append(str(e))\n",
    "    #candidate_locations3.append(e)\n",
    "\n",
    "    \n",
    "df = pd.DataFrame(list(candidate_locations3))\n",
    "df.head()\n",
    "# This results in a good dataframe we can query on, using pymongo"
   ]
  },
  {
   "cell_type": "code",
   "execution_count": null,
   "metadata": {},
   "outputs": [],
   "source": [
    "# A list of places where we can build on\n",
    "candidate_locations = list(col.find({\"funding_rounds.raised_amount\": {\"$gt\":1000000}},\n",
    "              {\"venue_location.GeoPoint\":1}))\n",
    "#getcoords = lambda cur : cur['venue_location']['GeoPoint']['coordinates']\n",
    "getcoords = lambda cur : cur['venue_location']#['GeoPoint']['coordinates']\n",
    "candidate_locations2 = map(getcoords, candidate_locations)\n",
    "\n",
    "candidate_locations3 = []\n",
    "for e in list(candidate_locations2):\n",
    "    #candidate_locations3.append(str(e))\n",
    "    candidate_locations3.append(e)\n",
    "\n",
    "    \n",
    "df = pd.DataFrame(list(candidate_locations3))\n",
    "df.head(3)\n",
    "# This results in a good dataframe we can query on, using pymongo"
   ]
  },
  {
   "cell_type": "code",
   "execution_count": null,
   "metadata": {},
   "outputs": [],
   "source": [
    "#Cleaning the data, some of the locations were duplicated.\n",
    "df = df.drop_duplicates()\n",
    "df = df.reset_index()\n",
    "df = df.drop(columns='index')\n",
    "df.head(3)"
   ]
  },
  {
   "cell_type": "code",
   "execution_count": null,
   "metadata": {
    "scrolled": true
   },
   "outputs": [],
   "source": [
    "#Copy the dataframe\n",
    "df2 = df.copy()"
   ]
  },
  {
   "cell_type": "code",
   "execution_count": null,
   "metadata": {},
   "outputs": [],
   "source": [
    "# Make multiple columns with the coordinates as their values\n",
    "keys = {'Airport', 'Coffee', 'Basketball'}\n",
    "for key in keys:\n",
    "    df2[key] = df.copy()\n",
    "df2.head(3)"
   ]
  },
  {
   "cell_type": "code",
   "execution_count": null,
   "metadata": {},
   "outputs": [],
   "source": [
    "#Loop the coordinates\n",
    "for key in keys:\n",
    "    for i in range(len(df2.GeoPoint[:3])):\n",
    "        print(df2[key][i])"
   ]
  },
  {
   "cell_type": "markdown",
   "metadata": {},
   "source": [
    "# Refactor MongoDB functions to pe applied on pandas columns"
   ]
  },
  {
   "cell_type": "code",
   "execution_count": null,
   "metadata": {},
   "outputs": [],
   "source": [
    "def venue_counter(BigPicture):\n",
    "    for filter_categories, radius in BigPicture:\n",
    "        for specific_category in filter_categories:\n",
    "            print(specific_category, radius)\n",
    "\n",
    "venue_counter(BigPicture)    \n",
    "# Accessed each specific_category and it's maximum radius allowed"
   ]
  },
  {
   "cell_type": "code",
   "execution_count": null,
   "metadata": {
    "scrolled": true
   },
   "outputs": [],
   "source": [
    "def venue_counter2(llarray, BigPicture):\n",
    "    print(f\"Querying this coordinates {llarray}\")\n",
    "    \n",
    "    for filter_categories, radius in BigPicture:    \n",
    "        print(f\"Querying this filter_categories {filter_categories}\")        \n",
    "        matches = list(col.find({\"venue_location.GeoPoint\":  {\n",
    "                                            \"$near\": { \n",
    "                                                \"$geometry\": \n",
    "                                                     # {\"type\": \"Point\" ,\n",
    "                                                    #  \"coordinates\":\n",
    "                                                    llarray    #}\n",
    "                                                ,\n",
    "                                                # Specify the maximum radius of the query\n",
    "                                                \"$maxDistance\":radius,\n",
    "                                            }\n",
    "                                },\n",
    "                            # Specify the correct 'categories_names' values\n",
    "                            'venue_location.PointCategory.categories_names': {\"$in\": filter_categories},\n",
    "                            },\n",
    "                            # Project only the `categories_names` values\n",
    "                            {\"venue_location.PointCategory.categories_names\":1}\n",
    "                        ))\n",
    "        \n",
    "        venue_list = []\n",
    "        for venue in matches:\n",
    "        #    for specific_category in filter_categories:\n",
    "            venue_list.append(venue['venue_location']['PointCategory']['categories_names'])\n",
    "            #yield venue['venue_location']['PointCategory']['categories_names']\n",
    "            \n",
    "        yield venue_list\n",
    "     #for specific_category in filter_categories:\n",
    "      #      print(specific_category, radius)\n",
    "\n",
    "#Loop the coordinates\n",
    "for key in keys:\n",
    "    for i in range(len(df2['GeoPoint'][:2])):\n",
    "        print(df2[key][i])\n",
    "        \n",
    "list(venue_counter2(df2['Airport'][8], BigPicture))"
   ]
  },
  {
   "cell_type": "code",
   "execution_count": null,
   "metadata": {},
   "outputs": [],
   "source": [
    "0/0"
   ]
  },
  {
   "cell_type": "code",
   "execution_count": null,
   "metadata": {},
   "outputs": [],
   "source": [
    "def exploreNeighborhood(office_coords, filter_categories, radius):\n",
    "\n",
    "    # Query and make a list of matches. \n",
    "    # This will include nearby venues \n",
    "    #      - which are part of the `filter_categories` list\n",
    "    #      - which are in the specified radius\n",
    "    matches = list(col.find({\"venue_location.GeoPoint\":  {\n",
    "                                        \"$near\": { \n",
    "                                            \"$geometry\": {\n",
    "                                                  \"type\": \"Point\" ,\n",
    "                                                  \"coordinates\": office_coords\n",
    "                                            },\n",
    "                                            # Specify the maximum radius of the query\n",
    "                                            \"$maxDistance\":radius,\n",
    "                                        }\n",
    "                            },\n",
    "                        # Specify the correct 'categories_names' values\n",
    "                        'venue_location.PointCategory.categories_names': {\"$in\": filter_categories},\n",
    "                        },\n",
    "                        # Project only the `categories_names` values\n",
    "                        {\"venue_location.PointCategory.categories_names\":1}))\n",
    "    \n",
    "    print(matches)\n",
    "    # Loop the resulting cursor, and try to return the category found\n",
    "    for venue in matches:\n",
    "            yield venue['venue_location']['PointCategory']['categories_names']\n"
   ]
  },
  {
   "cell_type": "code",
   "execution_count": null,
   "metadata": {
    "scrolled": true
   },
   "outputs": [],
   "source": [
    "fn = lambda office_coords : evaluateNeighborhood(office_coords, BigPicture)\n",
    "df2.Airport.map(fn)"
   ]
  },
  {
   "cell_type": "code",
   "execution_count": null,
   "metadata": {},
   "outputs": [],
   "source": [
    "# Avoid double querying by creating a list of coordinates which have already been evaluated\n",
    "evaluated = []                \n",
    "#for document in offices:      \n",
    " #   office_coords = document['venue_location']['GeoPoint']['coordinates']\n",
    "    #if office_coords in evaluated:\n",
    "    #    pass\n",
    "    #else:\n",
    "        print(f\"\\nEvaluating this office location: {office_coords}\")\n",
    "        evaluateNeighborhood(office_coords, BigPicture)\n",
    "        evaluated.append(office_coords)"
   ]
  },
  {
   "cell_type": "code",
   "execution_count": null,
   "metadata": {},
   "outputs": [],
   "source": [
    "0/0\n"
   ]
  },
  {
   "cell_type": "code",
   "execution_count": null,
   "metadata": {
    "scrolled": true
   },
   "outputs": [],
   "source": [
    "# Queary a cursor only with offices \n",
    "offices = list(col.find({\"venue_location.PointCategory\":\"business office\"},\n",
    "                        {\"venue_location.GeoPoint\":1}).limit(10))\n",
    "\n",
    "# Define the specific categories in an Array\n",
    "filter_categories = ['Coffee Shop', 'Heliport', \"Airport Terminal\"]\n",
    "\n",
    "def evaluateOfficeNeighborhood(document, filter_categories, radius):\n",
    "    # Take office-document's coordinates\n",
    "    print(f\"\\nEvaluating this office location: {document['venue_location']['GeoPoint']['coordinates']}\")\n",
    "    office_coords = document['venue_location']['GeoPoint']['coordinates']\n",
    "\n",
    "    # Perform a query that finds nearby venues which are part of the `filter_categories`\n",
    "    matches = list(col.find({\"venue_location.GeoPoint\":  {\n",
    "                                        \"$near\": { \n",
    "                                            \"$geometry\": {\n",
    "                                                  \"type\": \"Point\" ,\n",
    "                                                  \"coordinates\": office_coords\n",
    "                                            },\n",
    "                                            \"$maxDistance\":radius,\n",
    "                                           \n",
    "                                        }\n",
    "                                        },\n",
    "                        'venue_location.PointCategory.categories_names': {\"$in\": filter_categories},\n",
    "                        },\n",
    "                        {\"venue_location.PointCategory.categories_names\":1}))\n",
    "    \n",
    "    # Loop the resulting cursor, and try to return the category found\n",
    "    for venue in matches:\n",
    "            yield venue['venue_location']['PointCategory']['categories_names']\n",
    "            \n",
    "for document in offices:\n",
    "    venues = list(evaluateOfficeNeighborhood(document, filter_categories, 50000))\n",
    "    #print(venues)\n",
    "    \n",
    "    for var in filter_categories:\n",
    "        if venues.count(var) > 0:\n",
    "            print(f\" There are {venues.count(var)} '{var}'\")"
   ]
  }
 ],
 "metadata": {
  "kernelspec": {
   "display_name": "Python 3.6.9 64-bit",
   "language": "python",
   "name": "python36964bit17c6ebb0882a44ad96e177b7fffe16a0"
  },
  "language_info": {
   "codemirror_mode": {
    "name": "ipython",
    "version": 3
   },
   "file_extension": ".py",
   "mimetype": "text/x-python",
   "name": "python",
   "nbconvert_exporter": "python",
   "pygments_lexer": "ipython3",
   "version": "3.6.9"
  }
 },
 "nbformat": 4,
 "nbformat_minor": 4
}
