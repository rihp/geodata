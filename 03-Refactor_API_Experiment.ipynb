{
 "cells": [
  {
   "cell_type": "code",
   "execution_count": 6,
   "metadata": {
    "scrolled": true
   },
   "outputs": [
    {
     "name": "stdout",
     "output_type": "stream",
     "text": [
      "\n",
      "    -----------------------\n",
      "    Welcome to Vesuvius \n",
      "    Version Alpha 001 \n",
      "    -----------------------\n",
      "    Today is 2020-04-18\n",
      "\n",
      "    \n"
     ]
    }
   ],
   "source": [
    "from dotenv import load_dotenv\n",
    "load_dotenv()\n",
    "\n",
    "import os\n",
    "import enricher\n",
    "import datetime\n",
    "import json\n",
    "import requests\n",
    "\n",
    "def say_hi():\n",
    "    print(f\"\"\"\n",
    "    -----------------------\n",
    "    Welcome to Vesuvius \n",
    "    Version Alpha 001 \n",
    "    -----------------------\n",
    "    Today is {datetime.date.today()}\n",
    "\n",
    "    \"\"\")\n",
    "\n",
    "say_hi()"
   ]
  },
  {
   "cell_type": "markdown",
   "metadata": {},
   "source": [
    "## Generate a lat-lng for FourSquare"
   ]
  },
  {
   "cell_type": "code",
   "execution_count": 9,
   "metadata": {},
   "outputs": [
    {
     "name": "stdout",
     "output_type": "stream",
     "text": [
      "<Response [200]>\n"
     ]
    },
    {
     "data": {
      "text/plain": [
       "{'type': 'Point', 'coordinates': [21.59814, 48.92664]}"
      ]
     },
     "execution_count": 9,
     "metadata": {},
     "output_type": "execute_result"
    }
   ],
   "source": [
    "def geocode(address):\n",
    "    '''\n",
    "    Use geocode api to do forward geocoding. https://geocode.xyz/api\n",
    "    '''\n",
    "    res = requests.get(f\"https://geocode.xyz/{address}\",params={\"json\":1})\n",
    "    data = res.json()\n",
    "    print(res)\n",
    "    # Return as GeoJSON -> https://geojson.org/\n",
    "    return {\n",
    "        \"type\":\"Point\",\n",
    "        \"coordinates\": [float(data[\"longt\"]), float(data[\"latt\"])]\n",
    "    }\n",
    "geocode('Puerta del Sol')"
   ]
  },
  {
   "cell_type": "code",
   "execution_count": 53,
   "metadata": {},
   "outputs": [
    {
     "name": "stdout",
     "output_type": "stream",
     "text": [
      "<Response [200]>\n"
     ]
    },
    {
     "data": {
      "text/plain": [
       "{'type': 'Point', 'coordinates': [-3.70343, 40.41703]}"
      ]
     },
     "execution_count": 53,
     "metadata": {},
     "output_type": "execute_result"
    }
   ],
   "source": [
    "coords = geocode('Puerta del Sol, Madrid, España')\n",
    "coords"
   ]
  },
  {
   "cell_type": "code",
   "execution_count": 54,
   "metadata": {
    "scrolled": true
   },
   "outputs": [
    {
     "data": {
      "text/plain": [
       "'40.41703,-3.70343'"
      ]
     },
     "execution_count": 54,
     "metadata": {},
     "output_type": "execute_result"
    }
   ],
   "source": [
    "ll = coords\n",
    "ll = f\"{ll['coordinates'][1]},{ll['coordinates'][0]}\"\n",
    "ll"
   ]
  },
  {
   "cell_type": "code",
   "execution_count": 42,
   "metadata": {},
   "outputs": [
    {
     "data": {
      "text/plain": [
       "'48.92664,21.59814'"
      ]
     },
     "execution_count": 42,
     "metadata": {},
     "output_type": "execute_result"
    }
   ],
   "source": [
    "# I have to make a function to melts Geopoints into 4SQ `ll` format\n",
    "# This will be the cluster points generated from the crunchbase dataset\n",
    "#ll ='40.7243,-74.0018' # Times Square\n",
    "ll"
   ]
  },
  {
   "cell_type": "code",
   "execution_count": 55,
   "metadata": {
    "scrolled": false
   },
   "outputs": [
    {
     "name": "stdout",
     "output_type": "stream",
     "text": [
      "Requesting: https://api.foursquare.com/v2/venues/search,    venue_category: daycare\n",
      "200\n",
      "Requesting: https://api.foursquare.com/v2/venues/search,    venue_category: convention center\n",
      "200\n",
      "Requesting: https://api.foursquare.com/v2/venues/search,    venue_category: nightlife spot\n",
      "200\n"
     ]
    }
   ],
   "source": [
    "# Define a function that makes multiple categorized requests to the API,\n",
    "# and receive each request's RESPONSES in an interesting format:\n",
    "#   OUTPUT will be a DICT\n",
    "#      - Each key of the output will be one of the keys from the input\n",
    "#      - The len(array) of Input == len(dict.keys) of Output\n",
    "#      - The dict.values will be the response generated from the enricher.py module\n",
    "def cluster_request(cluster):\n",
    "    results = {}\n",
    "    for category in cluster:\n",
    "        results[category] = enricher.getCategoryFrom4SQ(ll,category)\n",
    "    return results\n",
    "\n",
    "\n",
    "\n",
    "# IMPORTANT: ♠ This will change later to a list of categories which will be funnelled and output as GeoPoints\n",
    "# Assign the categories we will look for\n",
    "flight_points = ['daycare', 'convention center', 'nightlife spot']#'airport', 'heliport', ]\n",
    "\n",
    "# Call the function\n",
    "flight_points_cluster = cluster_request(flight_points)"
   ]
  },
  {
   "cell_type": "code",
   "execution_count": 56,
   "metadata": {
    "scrolled": true
   },
   "outputs": [
    {
     "name": "stdout",
     "output_type": "stream",
     "text": [
      " ~ Printing unwinded data\n",
      " ~ Printing key: daycare\n",
      "<class 'requests.models.Response'>\n",
      " ~ Printing key: convention center\n",
      "<class 'requests.models.Response'>\n",
      " ~ Printing key: nightlife spot\n",
      "<class 'requests.models.Response'>\n"
     ]
    }
   ],
   "source": [
    "# Exporter.py module\n",
    "\n",
    "print(\" ~ Printing unwinded data\")\n",
    "\n",
    "for key in flight_points:\n",
    "    print(f\" ~ Printing key: {key}\")\n",
    "    response = flight_points_cluster[key]\n",
    "    \n",
    "    \n",
    "    #Export the places to a json\n",
    "    with open(f'OUTPUT/{key}-raw.json', 'w', encoding='utf-8') as f:\n",
    "        json.dump(response.json(),f, ensure_ascii=False, indent=4)\n",
    "               \n",
    "        \n",
    "    #print(f\"{response.json()}\")\n",
    "    print(f\"{type(response)}\")\n",
    "    #print(f\" ~ Printing response.json():\")\n",
    "    #print(f\"{response.json()}\")\n",
    "       # for venue in response:\n",
    "        #    print(f\" ~ Printing venue: {venue}\")\n",
    "           # print(venue['name'],'\\n', venue['location'])\n"
   ]
  },
  {
   "cell_type": "markdown",
   "metadata": {},
   "source": [
    "# Now, I want to turn make the output from the foursquare request include a valid GeoPoint\n"
   ]
  },
  {
   "cell_type": "code",
   "execution_count": 2,
   "metadata": {},
   "outputs": [],
   "source": [
    "#print(response.json()['response'].keys())\n",
    "#print(response.json()['response']['venues'])\n",
    "#print(response.json()['response']['venues'][0]['location'])\n",
    "#loc = response.json()['response']['venues'][0]['location']\n",
    "#response.json()[]"
   ]
  },
  {
   "cell_type": "code",
   "execution_count": 58,
   "metadata": {},
   "outputs": [
    {
     "data": {
      "text/plain": [
       "{'name': 'Terraza De Gourmet Experiencie Callao',\n",
       " 'category': 'Beer Garden',\n",
       " 'GeoPoint': {'type': 'Point', 'coordinates': [-3.7056284, 40.419827]}}"
      ]
     },
     "execution_count": 58,
     "metadata": {},
     "output_type": "execute_result"
    }
   ],
   "source": [
    "#loc['lng'],loc['lat']\n",
    "def GeopointFrom4SQ(venue):\n",
    "    loc = venue['location']\n",
    "    return {'name':venue['name'],\n",
    "            'category':venue['categories'][0]['name'], \n",
    "            'GeoPoint':{\n",
    "                'type':'Point',       \n",
    "                'coordinates':[\n",
    "                    loc['lng'],\n",
    "                    loc['lat']\n",
    "                ]\n",
    "    }}\n",
    "\n",
    "GeopointFrom4SQ(response.json()['response']['venues'][0])"
   ]
  },
  {
   "cell_type": "code",
   "execution_count": 59,
   "metadata": {},
   "outputs": [
    {
     "name": "stdout",
     "output_type": "stream",
     "text": [
      "dict_keys(['meta', 'response'])\n"
     ]
    }
   ],
   "source": [
    "print(response.json().keys())\n",
    "\n",
    "\n",
    "# Turn the venues into an iterator to be sent to MongoDB\n",
    "#print(len(venues))\n",
    "def venues_to_GeoPoints(venues):\n",
    "    for venue in venues:\n",
    "        #print(venue)\n",
    "            # Asigning the values of the GeopointFrom4SQ() function to a new variable\n",
    "            GeoPoint = GeopointFrom4SQ(venue)\n",
    "\n",
    "            #print(GeopointFrom4SQ(venue))\n",
    "            \n",
    "            yield GeopointFrom4SQ(venue)\n",
    "        \n",
    "        \n",
    "# Access the venues key\n",
    "#venues = response.json()['response']['venues']\n",
    "#flight_points_processed = {}\n",
    "\n",
    "# Call the function, Output will be the array of GeoPoints\n",
    "#list(venues_to_GeoPoints(venues))"
   ]
  },
  {
   "cell_type": "markdown",
   "metadata": {
    "scrolled": true
   },
   "source": [
    "# Exporter.py module\n",
    "## Output the Geopoints into `key`.json files\n",
    "\n",
    "Needs to import pymongo and update the DB automatically\n"
   ]
  },
  {
   "cell_type": "code",
   "execution_count": 60,
   "metadata": {},
   "outputs": [],
   "source": [
    "from pymongo import MongoClient\n",
    "\n",
    "client = MongoClient('mongodb://localhost/companies')\n",
    "db = client.get_database()"
   ]
  },
  {
   "cell_type": "code",
   "execution_count": 61,
   "metadata": {},
   "outputs": [
    {
     "data": {
      "text/plain": [
       "[{'_id': ObjectId('5e9b1e69aad39276989eb04a')}]"
      ]
     },
     "execution_count": 61,
     "metadata": {},
     "output_type": "execute_result"
    }
   ],
   "source": [
    "list(db.geo.find({},{'name':1}))"
   ]
  },
  {
   "cell_type": "code",
   "execution_count": 62,
   "metadata": {
    "scrolled": true
   },
   "outputs": [
    {
     "name": "stdout",
     "output_type": "stream",
     "text": [
      " ~ Printing key: daycare\n",
      "[{'name': 'Guardería Cuatro Pecas', 'category': 'Daycare', 'GeoPoint': {'type': 'Point', 'coordinates': [-3.7175075699415063, 40.4122081465651]}}, {'name': 'Xplora 3D', 'category': \"Dentist's Office\", 'GeoPoint': {'type': 'Point', 'coordinates': [-3.6948264070026453, 40.40661634455986]}}]\n",
      "<class 'requests.models.Response'>\n",
      " ~ Printing response.json():\n",
      " ~ Printing key: convention center\n",
      "[{'name': \"Scherpenseel's\", 'category': 'Convention Center', 'GeoPoint': {'type': 'Point', 'coordinates': [-3.710164, 40.416732]}}, {'name': 'eCommerce Made in Spain con Vodafone #eCommerceVF', 'category': 'Convention Center', 'GeoPoint': {'type': 'Point', 'coordinates': [-3.686701917757118, 40.43076377911717]}}, {'name': 'Z.A.R', 'category': 'Meeting Room', 'GeoPoint': {'type': 'Point', 'coordinates': [-3.6955377, 40.4059195]}}, {'name': 'Madrid Konsolosluğu', 'category': 'Convention Center', 'GeoPoint': {'type': 'Point', 'coordinates': [-3.714597702026367, 40.430423736572266]}}]\n",
      "<class 'requests.models.Response'>\n",
      " ~ Printing response.json():\n",
      " ~ Printing key: nightlife spot\n",
      "[{'name': 'Terraza De Gourmet Experiencie Callao', 'category': 'Beer Garden', 'GeoPoint': {'type': 'Point', 'coordinates': [-3.7056284, 40.419827]}}, {'name': 'Perro Malo', 'category': 'Bar', 'GeoPoint': {'type': 'Point', 'coordinates': [-3.7029933929443355, 40.41148649944482]}}, {'name': 'D Deck', 'category': 'Cocktail Bar', 'GeoPoint': {'type': 'Point', 'coordinates': [-3.696989, 40.421752]}}, {'name': 'Stop Madrid El Leon De Oro', 'category': 'Wine Bar', 'GeoPoint': {'type': 'Point', 'coordinates': [-3.6989043, 40.414032]}}, {'name': 'Cervecería Cruz Blanca', 'category': 'Bar', 'GeoPoint': {'type': 'Point', 'coordinates': [-3.6781005664057997, 40.41693905459416]}}]\n",
      "<class 'requests.models.Response'>\n",
      " ~ Printing response.json():\n"
     ]
    }
   ],
   "source": [
    "# Exporter.py module\n",
    "# Output the Geopoints into `key`.json files\n",
    "\n",
    "for key in flight_points:\n",
    "    print(f\" ~ Printing key: {key}\")\n",
    "    response = flight_points_cluster[key]\n",
    "    venues = response.json()['response']['venues']\n",
    "    print(list(venues_to_GeoPoints(venues)))\n",
    "    \n",
    "    #GeoPoint = GeopointFrom4SQ(venue)\n",
    "    if len(list(venues_to_GeoPoints(venues))) >0:\n",
    "        db.geo_transports.insert_many(list(venues_to_GeoPoints(venues)))\n",
    "    #Export the places to a json\n",
    "    #ith open(f'{key}.json', 'w', encoding='utf-8') as f:c\n",
    "     #  json.dump(Geopoint,f, ensure_ascii=False, indent=4)\n",
    "               \n",
    "        \n",
    "    #print(f\"{response.json()}\")\n",
    "    print(f\"{type(response)}\")\n",
    "    \n",
    "    print(f\" ~ Printing response.json():\")\n",
    "    #print(f\"{response.json()}\")\n",
    "       # for venue in response:\n",
    "        #    print(f\" ~ Printing venue: {venue}\")\n",
    "           # print(venue['name'],'\\n', venue['location'])\n"
   ]
  },
  {
   "cell_type": "code",
   "execution_count": 63,
   "metadata": {},
   "outputs": [
    {
     "data": {
      "text/plain": [
       "[{'name': 'Terraza De Gourmet Experiencie Callao',\n",
       "  'category': 'Beer Garden',\n",
       "  'GeoPoint': {'type': 'Point', 'coordinates': [-3.7056284, 40.419827]}},\n",
       " {'name': 'Perro Malo',\n",
       "  'category': 'Bar',\n",
       "  'GeoPoint': {'type': 'Point',\n",
       "   'coordinates': [-3.7029933929443355, 40.41148649944482]}},\n",
       " {'name': 'D Deck',\n",
       "  'category': 'Cocktail Bar',\n",
       "  'GeoPoint': {'type': 'Point', 'coordinates': [-3.696989, 40.421752]}},\n",
       " {'name': 'Stop Madrid El Leon De Oro',\n",
       "  'category': 'Wine Bar',\n",
       "  'GeoPoint': {'type': 'Point', 'coordinates': [-3.6989043, 40.414032]}},\n",
       " {'name': 'Cervecería Cruz Blanca',\n",
       "  'category': 'Bar',\n",
       "  'GeoPoint': {'type': 'Point',\n",
       "   'coordinates': [-3.6781005664057997, 40.41693905459416]}}]"
      ]
     },
     "execution_count": 63,
     "metadata": {},
     "output_type": "execute_result"
    }
   ],
   "source": [
    "# Access the venues key\n",
    "venues = response.json()['response']['venues']\n",
    "flight_points_processed = {}\n",
    "\n",
    "# Call the function\n",
    "list(venues_to_GeoPoints(venues))"
   ]
  }
 ],
 "metadata": {
  "kernelspec": {
   "display_name": "Python 3.6.9 64-bit",
   "language": "python",
   "name": "python36964bit17c6ebb0882a44ad96e177b7fffe16a0"
  },
  "language_info": {
   "codemirror_mode": {
    "name": "ipython",
    "version": 3
   },
   "file_extension": ".py",
   "mimetype": "text/x-python",
   "name": "python",
   "nbconvert_exporter": "python",
   "pygments_lexer": "ipython3",
   "version": "3.6.9"
  }
 },
 "nbformat": 4,
 "nbformat_minor": 4
}
